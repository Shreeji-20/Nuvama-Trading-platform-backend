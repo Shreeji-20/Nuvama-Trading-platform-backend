{
 "cells": [
  {
   "cell_type": "code",
   "execution_count": 9,
   "id": "7e31a97f",
   "metadata": {},
   "outputs": [
    {
     "data": {
      "text/plain": [
       "2"
      ]
     },
     "execution_count": 9,
     "metadata": {},
     "output_type": "execute_result"
    }
   ],
   "source": [
    "import redis\n",
    "r = redis.Redis(host='localhost', port=6379, db=0)\n",
    "import orjson\n",
    "import json\n",
    "r.publish(\"strikes_updates\",json.dumps({\"3405_NSE\":\"TATACHEM\"}))"
   ]
  },
  {
   "cell_type": "code",
   "execution_count": 13,
   "id": "e329fbe0",
   "metadata": {},
   "outputs": [
    {
     "name": "stdout",
     "output_type": "stream",
     "text": [
      "<class 'dict'>\n",
      "['47135_NFO', '46942_NFO', '47346_NFO', '47323_NFO', '47271_NFO', '47322_NFO', '47222_NFO', '47324_NFO', '47348_NFO', '47182_NFO', '47347_NFO', '47181_NFO', '46941_NFO', '47320_NFO', '47179_NFO', '47319_NFO', '47343_NFO', '47178_NFO', '47272_NFO', '47248_NFO', '46943_NFO', '47345_NFO', '47344_NFO', '47321_NFO', '47249_NFO', '47153_NFO', '47029_NFO', '47205_NFO', '47253_NFO', '47176_NFO', '47305_NFO', '47130_NFO', '47099_NFO', '47254_NFO', '47075_NFO', '47206_NFO', '47354_NFO', '47252_NFO', '47051_NFO', '47098_NFO', '47175_NFO', '47232_NFO', '46998_NFO', '47349_NFO', '47080_NFO', '47150_NFO', '47149_NFO', '47256_NFO', '46974_NFO', '47326_NFO', '47126_NFO', '47207_NFO', '47325_NFO', '46975_NFO', '47231_NFO', '47209_NFO', '47148_NFO', '47210_NFO', '47327_NFO', '46949_NFO', '47398_NFO', '47304_NFO', '47125_NFO', '47255_NFO', '47208_NFO', '46950_NFO', '47054_NFO', '47047_NFO', '47071_NFO', '47100_NFO', '47283_NFO', '46954_NFO', '47124_NFO', '47070_NFO', '47257_NFO', '47312_NFO', '47145_NFO', '47212_NFO', '46999_NFO', '47074_NFO', '47307_NFO', '47167_NFO', '46933_NFO', '47049_NFO', '47121_NFO', '47073_NFO', '47050_NFO', '47026_NFO', '46955_NFO', '47166_NFO', '47215_NFO', '47284_NFO', '47048_NFO', '47095_NFO', '46936_NFO', '46960_NFO', '46959_NFO', '46984_NFO', '47088_NFO', '47216_NFO', '47340_NFO', '47165_NFO', '46958_NFO', '47390_NFO', '47389_NFO', '47318_NFO', '47140_NFO', '47164_NFO', '47217_NFO', '47385_NFO', '47162_NFO', '46940_NFO', '47384_NFO', '46939_NFO', '46985_NFO', '47136_NFO', '47290_NFO', '46937_NFO', '47339_NFO', '46961_NFO', '47137_NFO', '47221_NFO', '47291_NFO', '46938_NFO', '47338_NFO', '46962_NFO', '47089_NFO', '47161_NFO', '846788_BFO', '847281_BFO', '847070_BFO', '846753_BFO', '847157_BFO', '846765_BFO', '847170_BFO', '847057_BFO', '846817_BFO', '847269_BFO', '847121_BFO', '846877_BFO', '847194_BFO', '847268_BFO', '847133_BFO', '846799_BFO', '846963_BFO', '847171_BFO', '847056_BFO', '846740_BFO', '847044_BFO', '847021_BFO', '847079_BFO', '846787_BFO', '846716_BFO', '847270_BFO', '846999_BFO', '847068_BFO', '847258_BFO', '847169_BFO', '847013_BFO', '846779_BFO', '847131_BFO', '846814_BFO', '846732_BFO', '847001_BFO', '847201_BFO', '846826_BFO', '847300_BFO', '846755_BFO', '847295_BFO', '847259_BFO', '847014_BFO', '846801_BFO', '847130_BFO', '846836_BFO', '847320_BFO', '847250_BFO', '847035_BFO', '847214_BFO', '846803_BFO', '847177_BFO', '847071_BFO', '846979_BFO', '846754_BFO', '847321_BFO', '846932_BFO', '847296_BFO', '846789_BFO', '847249_BFO', '847119_BFO', '847227_BFO', '847140_BFO', '847016_BFO', '846994_BFO', '846823_BFO', '846970_BFO', '846911_BFO', '847151_BFO', '847240_BFO', '847314_BFO', '847103_BFO', '846859_BFO', '847328_BFO', '847286_BFO', '847188_BFO', '846960_BFO', '847038_BFO', '846845_BFO', '846912_BFO', '847228_BFO', '847253_BFO', '847097_BFO', '847186_BFO', '847141_BFO', '847015_BFO', '846870_BFO', '846935_BFO', '846971_BFO', '847051_BFO', '847098_BFO', '846923_BFO', '847198_BFO', '846768_BFO', '847287_BFO', '846846_BFO', '846869_BFO', '846722_BFO', '847324_BFO', '847078_BFO', '846714_BFO', '846997_BFO', '846774_BFO', '846961_BFO', '847136_BFO', '847206_BFO', '847113_BFO', '846737_BFO', '846891_BFO', '846856_BFO', '846901_BFO', '847185_BFO', '847305_BFO', '847112_BFO', '846986_BFO', '847091_BFO', '846948_BFO', '847032_BFO', '846880_BFO', '847008_BFO', '847220_BFO', '846890_BFO', '847219_BFO', '847149_BFO', '847150_BFO', '846974_BFO', '846831_BFO', '847243_BFO', '846926_BFO', '847090_BFO', '846760_BFO', '846772_BFO', '847054_BFO', '847102_BFO', '44514_NFO', '44462_NFO', '44538_NFO', '44461_NFO', '44562_NFO', '44515_NFO', '44563_NFO', '44361_NFO', '44539_NFO', '44540_NFO', '44463_NFO', '44362_NFO', '44365_NFO', '44435_NFO', '44564_NFO', '44411_NFO', '44541_NFO', '44565_NFO', '44390_NFO', '44389_NFO', '44458_NFO', '44366_NFO', '44518_NFO', '44364_NFO', '44459_NFO', '44566_NFO', '44460_NFO', '44519_NFO', '44388_NFO', '44444_NFO', '44555_NFO', '44368_NFO', '44508_NFO', '44556_NFO', '44491_NFO', '44579_NFO', '44493_NFO', '44509_NFO', '44510_NFO', '44469_NFO', '44391_NFO', '44468_NFO', '44367_NFO', '44557_NFO', '44492_NFO', '44445_NFO', '44511_NFO', '44465_NFO', '44558_NFO', '44464_NFO', '44559_NFO', '44512_NFO', '44369_NFO', '44536_NFO', '44490_NFO', '44513_NFO', '44560_NFO', '44561_NFO', '44537_NFO', '44450_NFO', '44550_NFO', '44350_NFO', '44497_NFO', '44573_NFO', '44402_NFO', '44403_NFO', '44496_NFO', '44426_NFO', '44473_NFO', '44396_NFO', '44427_NFO', '44551_NFO', '44504_NFO', '44552_NFO', '44498_NFO', '44404_NFO', '44397_NFO', '44451_NFO', '44528_NFO', '44353_NFO', '44505_NFO', '44576_NFO', '44377_NFO', '44471_NFO', '44529_NFO', '44470_NFO', '44553_NFO', '44506_NFO', '44530_NFO', '44554_NFO', '44472_NFO', '44424_NFO', '44354_NFO', '44577_NFO', '44376_NFO', '44425_NFO', '44507_NFO', '44578_NFO', '44531_NFO', '44567_NFO', '44456_NFO', '44455_NFO', '44355_NFO', '44408_NFO', '44457_NFO', '44409_NFO', '44410_NFO', '44357_NFO', '44568_NFO', '44434_NFO', '44522_NFO', '44569_NFO', '44570_NFO', '44356_NFO', '44405_NFO', '44383_NFO', '44523_NFO', '44360_NFO', '44500_NFO', '44571_NFO', '44499_NFO', '44572_NFO', '44501_NFO', '44406_NFO', '44382_NFO', '44407_NFO', '44359_NFO', '44454_NFO', '842877_BFO', '842219_BFO', '841898_BFO', '842706_BFO', '842119_BFO', '842590_BFO', '842865_BFO', '842367_BFO', '843058_BFO', '842990_BFO', '843122_BFO', '842629_BFO', '843012_BFO', '842941_BFO', '843110_BFO', '842143_BFO', '842392_BFO', '842279_BFO', '842007_BFO', '841962_BFO', '842145_BFO', '842066_BFO', '842843_BFO', '842430_BFO', '842904_BFO', '842707_BFO', '842820_BFO', '842939_BFO', '842122_BFO', '842341_BFO', '842317_BFO', '842530_BFO', '841939_BFO', '842666_BFO', '842867_BFO', '842755_BFO', '843084_BFO', '842518_BFO', '842044_BFO', '842627_BFO', '842992_BFO', '842334_BFO', '843102_BFO', '842294_BFO', '842258_BFO', '842141_BFO', '842581_BFO', '842487_BFO', '842357_BFO', '842046_BFO', '842199_BFO', '843113_BFO', '842451_BFO', '843074_BFO', '842105_BFO', '842937_BFO', '841896_BFO', '842603_BFO', '842093_BFO', '842508_BFO', '842426_BFO', '842069_BFO', '843098_BFO', '842887_BFO', '842664_BFO', '842567_BFO', '842283_BFO', '843039_BFO', '842165_BFO', '842769_BFO', '842924_BFO', '841954_BFO', '842308_BFO', '843028_BFO', '842592_BFO', '842723_BFO', '842450_BFO', '843100_BFO', '842355_BFO', '842403_BFO', '842859_BFO', '842273_BFO', '842026_BFO', '842800_BFO', '842202_BFO', '842385_BFO', '842162_BFO', '842261_BFO', '843076_BFO', '841968_BFO', '842911_BFO', '841932_BFO', '843030_BFO', '842836_BFO', '842747_BFO', '842086_BFO', '842502_BFO', '842571_BFO', '842969_BFO', '842773_BFO', '842749_BFO', '842115_BFO', '842500_BFO', '841946_BFO', '842323_BFO', '842897_BFO', '842239_BFO', '842862_BFO', '842104_BFO', '843055_BFO', '841993_BFO', '842186_BFO', '842015_BFO', '842038_BFO', '843120_BFO', '842352_BFO', '842434_BFO', '842410_BFO', '841983_BFO', '842470_BFO', '842598_BFO', '842919_BFO', '842644_BFO', '841935_BFO', '842552_BFO', '842456_BFO', '842679_BFO', '842834_BFO', '842265_BFO', '842018_BFO', '842787_BFO', '843129_BFO', '843011_BFO', '842183_BFO']\n"
     ]
    }
   ],
   "source": [
    "data = orjson.loads(r.get(\"option_mapper\"))\n",
    "print(type(data))\n",
    "print(list(data.keys()))"
   ]
  },
  {
   "cell_type": "code",
   "execution_count": 14,
   "id": "fc2bd5db",
   "metadata": {},
   "outputs": [],
   "source": [
    "d = orjson.loads(r.get(\"order:70204607Lord_Shreeji250811000170267\").decode())"
   ]
  },
  {
   "cell_type": "code",
   "execution_count": 15,
   "id": "9b1989c1",
   "metadata": {},
   "outputs": [
    {
     "name": "stdout",
     "output_type": "stream",
     "text": [
      "<class 'dict'>\n"
     ]
    }
   ],
   "source": [
    "print(type(d))"
   ]
  },
  {
   "cell_type": "code",
   "execution_count": 1,
   "id": "d648015e",
   "metadata": {},
   "outputs": [],
   "source": [
    "from APIConnect.APIConnect import APIConnect\n",
    "api_connect = APIConnect(\"iBe07GpBTEbbhg\", \"PhIf&g9m*0C7sQfm\", \"353363face3c472e\", True, \"\")"
   ]
  },
  {
   "cell_type": "code",
   "execution_count": 2,
   "id": "69f303ee",
   "metadata": {},
   "outputs": [],
   "source": [
    "from order_streaming_socket import OrderStreamingSocket"
   ]
  },
  {
   "cell_type": "code",
   "execution_count": null,
   "id": "ff3f90e8",
   "metadata": {},
   "outputs": [
    {
     "name": "stdout",
     "output_type": "stream",
     "text": [
      "restarting\n",
      "Traceback (most recent call last):\n",
      "  File \"C:\\Users\\shree\\AppData\\Local\\Temp\\ipykernel_24872\\1892350392.py\", line 21, in <module>\n",
      "    raise Exception(\"Exception Created.\")\n",
      "Exception: Exception Created.\n",
      "\n",
      "[Error] Exception Created. — restarting order streaming...\n",
      "restarting\n",
      "True False\n",
      "Traceback (most recent call last):\n",
      "  File \"C:\\Users\\shree\\AppData\\Local\\Temp\\ipykernel_24872\\1892350392.py\", line 19, in <module>\n",
      "    raise Exception(\"Reading Thread Stopped or heartbeat timer stopped restarting\")\n",
      "Exception: Reading Thread Stopped or heartbeat timer stopped restarting\n",
      "\n"
     ]
    },
    {
     "ename": "",
     "evalue": "",
     "output_type": "error",
     "traceback": [
      "\u001b[1;31mThe Kernel crashed while executing code in the current cell or a previous cell. \n",
      "\u001b[1;31mPlease review the code in the cell(s) to identify a possible cause of the failure. \n",
      "\u001b[1;31mClick <a href='https://aka.ms/vscodeJupyterKernelCrash'>here</a> for more info. \n",
      "\u001b[1;31mView Jupyter <a href='command:jupyter.viewOutput'>log</a> for further details."
     ]
    }
   ],
   "source": [
    "import time\n",
    "import traceback\n",
    "order_streaming_socket = OrderStreamingSocket(\"70249886\")\n",
    "while True:\n",
    "    try:\n",
    "        print(\"restarting\")\n",
    "        order_streaming_socket.order_streaming_start()\n",
    "        # print(order_streaming_socket)\n",
    "        # Keep the connection alive\n",
    "        # while order_streaming_socket.api_connect.feedobj.__is_connection_alive():\n",
    "        #     time.sleep(1)\n",
    "        while True:\n",
    "            if order_streaming_socket.api_connect.feedobj.t_read and order_streaming_socket.api_connect.feedobj.timer:\n",
    "                if order_streaming_socket.api_connect.feedobj.t_read.is_alive() and order_streaming_socket.api_connect.feedobj.timer.isTimerActive():\n",
    "                    print(\"Yes \",end='  \\r')\n",
    "                    time.sleep(1)\n",
    "                else:   \n",
    "                    print(order_streaming_socket.api_connect.feedobj.t_read.is_alive(),order_streaming_socket.api_connect.feedobj.timer.isTimerActive())\n",
    "                    raise Exception(\"Reading Thread Stopped or heartbeat timer stopped restarting\")\n",
    "            else:\n",
    "                raise Exception(\"Exception Created.\")\n",
    "    except Exception as e:\n",
    "        print(traceback.format_exc())\n",
    "        order_streaming_socket.api_connect.feedobj.shutdown()\n",
    "        print(f\"[Error] {e} — restarting order streaming...\")\n",
    "        # 9998027669 -> pratik bhai \n",
    "        time.sleep(2)  # Short delay before reconnecting"
   ]
  },
  {
   "cell_type": "code",
   "execution_count": null,
   "id": "ae026b66",
   "metadata": {},
   "outputs": [],
   "source": [
    "import os\n",
    "os._exit(1)"
   ]
  },
  {
   "cell_type": "code",
   "execution_count": null,
   "id": "62212771",
   "metadata": {},
   "outputs": [],
   "source": [
    "Order Streaming Response:<class 'dict'> {'response': {'data': {'aTyp': 'OPTIDX', 'avgPrc': '0.00', 'boSeqId': '', 'bsktEpch': '', 'bsktOrdId': '', 'cName': ' ', 'cancel': 'false', 'cta': '', 'dExpDt': \"12 AUG'25\", 'dInsTyp': '', 'dQty': '0', 'desc': 'Buy 1 Qty @ &#8377 11.35', 'dpName': 'SENSEX', 'dur': 'DAY', 'edit': 'false', 'epochTim': '1754643531324604', 'exONo': '', 'exc': 'BFO', 'exit': 'false', 'extOrdTim': '1754643531324604', 'fID': '', 'fPrc': '0.00', 'fQty': '0', 'isCOSecLeg': 'false', 'isSL': False, 'isTgt': False, 'lib': '960993191487819c37ffd0ae9f312b43', 'lsz': '20', 'nReqID': '1', 'oID': '250808000145030', 'oTyp': 'LIMIT', 'ogt': '--', 'opTyp': 'CE', 'ordRep': '--', 'ordTim': '08/08/2025 14:28:51', 'pCode': 'NRML', 'pTyp': 'ORDER_UPDATE', 'prc': '11.35', 'rQty': '0', 'rRsn': '', 'rcvDt': '08/08/2025', 'rcvTim': '14:28:51', 'rmk': 'Test Order from Python Script 3', 'sID': '', 'srs': '', 'stkPrc': '82000.0', 'sts': 'put order req received', 'sym': '842820_BFO', 'syomId': 'NA', 'tQty': '1', 'tSym': 'SENSEX2581282000CE', 'tTyp': 'BUY', 'trgPrc': '0.00', 'tsz': '0.05', 'userID': '70204607', 'usrCmnt': '', 'vlDt': '', 'vndAcOp': '', 'vndLst': [], 'vndSrc': ''}, 'streaming_type': 'orderFiler'}}\n",
    "Order Streaming Response:<class 'dict'> {'response': {'data': {'aTyp': 'OPTIDX', 'avgPrc': '0.00', 'boSeqId': '', 'bsktEpch': '', 'bsktOrdId': '', 'cName': ' ', 'cancel': 'false', 'cta': '', 'dExpDt': \"12 AUG'25\", 'dInsTyp': '', 'dQty': '0', 'desc': 'Buy 1 Qty @ &#8377 11.35', 'dpName': 'SENSEX', 'dur': 'DAY', 'edit': 'false', 'epochTim': '1754643531325200', 'exONo': '', 'exc': 'BFO', 'exit': 'false', 'extOrdTim': '1754643531325200', 'fID': '', 'fPrc': '0.00', 'fQty': '0', 'isCOSecLeg': 'false', 'isSL': False, 'isTgt': False, 'lib': '960993191487819c37ffd0ae9f312b43', 'lsz': '20', 'nReqID': '1', 'oID': '250808000145030', 'oTyp': 'LIMIT', 'ogt': '--', 'opTyp': 'CE', 'ordRep': 'validation pending', 'ordTim': '08/08/2025 14:28:51', 'pCode': 'NRML', 'pTyp': 'ORDER_UPDATE', 'prc': '11.35', 'rQty': '1', 'rRsn': '', 'rcvDt': '08/08/2025', 'rcvTim': '14:28:51', 'rmk': 'Test Order from Python Script 3', 'sID': '', 'srs': '', 'stkPrc': '82000.0', 'sts': 'validation pending', 'sym': '842820_BFO', 'syomId': 'NA', 'tQty': '1', 'tSym': 'SENSEX2581282000CE', 'tTyp': 'BUY', 'trgPrc': '0.00', 'tsz': '0.05', 'userID': '70204607', 'usrCmnt': '', 'vlDt': '', 'vndAcOp': '', 'vndLst': [], 'vndSrc': ''}, 'streaming_type': 'orderFiler'}}\n",
    "Order Streaming Response:<class 'dict'> {'response': {'data': {'aTyp': 'OPTIDX', 'avgPrc': '0.00', 'boSeqId': '', 'bsktEpch': '', 'bsktOrdId': '', 'cName': ' ', 'cancel': 'true', 'cta': '', 'dExpDt': \"12 AUG'25\", 'dInsTyp': '', 'dQty': '0', 'desc': 'Buy 1 Qty @ &#8377 11.35', 'dpName': 'SENSEX', 'dur': 'DAY', 'edit': 'true', 'epochTim': '1754643531327971', 'exONo': '', 'exc': 'BFO', 'exit': 'false', 'extOrdTim': '1754643531327971', 'fID': '', 'fPrc': '0.00', 'fQty': '0', 'isCOSecLeg': 'false', 'isSL': False, 'isTgt': False, 'lib': '960993191487819c37ffd0ae9f312b43', 'lsz': '20', 'nReqID': '1', 'oID': '250808000145030', 'oTyp': 'LIMIT', 'ogt': '--', 'opTyp': 'CE', 'ordRep': 'open pending', 'ordTim': '08/08/2025 14:28:51', 'pCode': 'NRML', 'pTyp': 'ORDER_UPDATE', 'prc': '11.35', 'rQty': '1', 'rRsn': '', 'rcvDt': '08/08/2025', 'rcvTim': '14:28:51', 'rmk': 'Test Order from Python Script 3', 'sID': '', 'srs': '', 'stkPrc': '82000.0', 'sts': 'open pending', 'sym': '842820_BFO', 'syomId': 'NA', 'tQty': '1', 'tSym': 'SENSEX2581282000CE', 'tTyp': 'BUY', 'trgPrc': '0.00', 'tsz': '0.05', 'userID': '70204607', 'usrCmnt': '', 'vlDt': '', 'vndAcOp': '', 'vndLst': [], 'vndSrc': ''}, 'streaming_type': 'orderFiler'}}\n",
    "Order Streaming Response:<class 'dict'> {'response': {'data': {'aTyp': 'OPTIDX', 'avgPrc': '0.00', 'boSeqId': '', 'bsktEpch': '', 'bsktOrdId': '', 'cName': ' ', 'cancel': 'false', 'cta': '', 'dExpDt': \"12 AUG'25\", 'dInsTyp': '', 'dQty': '0', 'desc': 'Buy 1 Qty @ &#8377 11.35', 'dpName': 'SENSEX', 'dur': 'DAY', 'edit': 'false', 'epochTim': '1754643531333188', 'exONo': '', 'exc': 'BFO', 'exit': 'false', 'extOrdTim': '1754643531333188', 'fID': '', 'fPrc': '0.00', 'fQty': '0', 'isCOSecLeg': 'false', 'isSL': False, 'isTgt': False, 'lib': '960993191487819c37ffd0ae9f312b43', 'lsz': '20', 'nReqID': '1', 'oID': '250808000145030', 'oTyp': 'LIMIT', 'ogt': '--', 'opTyp': 'CE', 'ordRep': 'failure', 'ordTim': '08/08/2025 14:28:51', 'pCode': 'NRML', 'pTyp': 'ORDER_UPDATE', 'prc': '11.35', 'rQty': '0', 'rRsn': 'EXCHANGE: ORDER QTY [1] SHOULD BE MULTIPLE OF MARKET LOT [20]', 'rcvDt': '08/08/2025', 'rcvTim': '14:28:51', 'rmk': 'Test Order from Python Script 3', 'sID': '', 'srs': '', 'stkPrc': '82000.0', 'sts': 'rejected', 'sym': '842820_BFO', 'syomId': 'NA', 'tQty': '1', 'tSym': 'SENSEX2581282000CE', 'tTyp': 'BUY', 'trgPrc': '0.00', 'tsz': '0.05', 'userID': '70204607', 'usrCmnt': '', 'vlDt': '', 'vndAcOp': '', 'vndLst': [], 'vndSrc': ''}, 'streaming_type': 'orderFiler'}}\n",
    "Order Streaming Response:<class 'dict'> {'response': {'data': {'aTyp': 'OPTIDX', 'avgPrc': '0.00', 'boSeqId': '', 'bsktEpch': '', 'bsktOrdId': '', 'cName': ' ', 'cancel': 'false', 'cta': '', 'dExpDt': \"12 AUG'25\", 'dInsTyp': '', 'dQty': '0', 'desc': 'Buy 20 Qty @ &#8377 11.50', 'dpName': 'SENSEX', 'dur': 'DAY', 'edit': 'false', 'epochTim': '1754643691777100', 'exONo': '', 'exc': 'BFO', 'exit': 'false', 'extOrdTim': '1754643691777100', 'fID': '', 'fPrc': '0.00', 'fQty': '0', 'isCOSecLeg': 'false', 'isSL': False, 'isTgt': False, 'lib': '960993191487819c37ffd0ae9f312b43', 'lsz': '20', 'nReqID': '1', 'oID': '250808000146157', 'oTyp': 'LIMIT', 'ogt': '--', 'opTyp': 'CE', 'ordRep': '--', 'ordTim': '08/08/2025 14:31:31', 'pCode': 'NRML', 'pTyp': 'ORDER_UPDATE', 'prc': '11.50', 'rQty': '0', 'rRsn': '', 'rcvDt': '08/08/2025', 'rcvTim': '14:31:31', 'rmk': 'Test Order from Python Script 3', 'sID': '', 'srs': '', 'stkPrc': '82000.0', 'sts': 'put order req received', 'sym': '842820_BFO', 'syomId': 'NA', 'tQty': '20', 'tSym': 'SENSEX2581282000CE', 'tTyp': 'BUY', 'trgPrc': '0.00', 'tsz': '0.05', 'userID': '70204607', 'usrCmnt': '', 'vlDt': '', 'vndAcOp': '', 'vndLst': [], 'vndSrc': ''}, 'streaming_type': 'orderFiler'}}\n",
    "Order Streaming Response:<class 'dict'> {'response': {'data': {'aTyp': 'OPTIDX', 'avgPrc': '0.00', 'boSeqId': '', 'bsktEpch': '', 'bsktOrdId': '', 'cName': ' ', 'cancel': 'false', 'cta': '', 'dExpDt': \"12 AUG'25\", 'dInsTyp': '', 'dQty': '0', 'desc': 'Buy 20 Qty @ &#8377 11.50', 'dpName': 'SENSEX', 'dur': 'DAY', 'edit': 'false', 'epochTim': '1754643691777617', 'exONo': '', 'exc': 'BFO', 'exit': 'false', 'extOrdTim': '1754643691777617', 'fID': '', 'fPrc': '0.00', 'fQty': '0', 'isCOSecLeg': 'false', 'isSL': False, 'isTgt': False, 'lib': '960993191487819c37ffd0ae9f312b43', 'lsz': '20', 'nReqID': '1', 'oID': '250808000146157', 'oTyp': 'LIMIT', 'ogt': '--', 'opTyp': 'CE', 'ordRep': 'validation pending', 'ordTim': '08/08/2025 14:31:31', 'pCode': 'NRML', 'pTyp': 'ORDER_UPDATE', 'prc': '11.50', 'rQty': '20', 'rRsn': '', 'rcvDt': '08/08/2025', 'rcvTim': '14:31:31', 'rmk': 'Test Order from Python Script 3', 'sID': '', 'srs': '', 'stkPrc': '82000.0', 'sts': 'validation pending', 'sym': '842820_BFO', 'syomId': 'NA', 'tQty': '20', 'tSym': 'SENSEX2581282000CE', 'tTyp': 'BUY', 'trgPrc': '0.00', 'tsz': '0.05', 'userID': '70204607', 'usrCmnt': '', 'vlDt': '', 'vndAcOp': '', 'vndLst': [], 'vndSrc': ''}, 'streaming_type': 'orderFiler'}}\n",
    "Order Streaming Response:<class 'dict'> {'response': {'data': {'aTyp': 'OPTIDX', 'avgPrc': '0.00', 'boSeqId': '', 'bsktEpch': '', 'bsktOrdId': '', 'cName': ' ', 'cancel': 'true', 'cta': '', 'dExpDt': \"12 AUG'25\", 'dInsTyp': '', 'dQty': '0', 'desc': 'Buy 20 Qty @ &#8377 11.50', 'dpName': 'SENSEX', 'dur': 'DAY', 'edit': 'true', 'epochTim': '1754643691780106', 'exONo': '', 'exc': 'BFO', 'exit': 'false', 'extOrdTim': '1754643691780106', 'fID': '', 'fPrc': '0.00', 'fQty': '0', 'isCOSecLeg': 'false', 'isSL': False, 'isTgt': False, 'lib': '960993191487819c37ffd0ae9f312b43', 'lsz': '20', 'nReqID': '1', 'oID': '250808000146157', 'oTyp': 'LIMIT', 'ogt': '--', 'opTyp': 'CE', 'ordRep': 'open pending', 'ordTim': '08/08/2025 14:31:31', 'pCode': 'NRML', 'pTyp': 'ORDER_UPDATE', 'prc': '11.50', 'rQty': '20', 'rRsn': '', 'rcvDt': '08/08/2025', 'rcvTim': '14:31:31', 'rmk': 'Test Order from Python Script 3', 'sID': '', 'srs': '', 'stkPrc': '82000.0', 'sts': 'open pending', 'sym': '842820_BFO', 'syomId': 'NA', 'tQty': '20', 'tSym': 'SENSEX2581282000CE', 'tTyp': 'BUY', 'trgPrc': '0.00', 'tsz': '0.05', 'userID': '70204607', 'usrCmnt': '', 'vlDt': '', 'vndAcOp': '', 'vndLst': [], 'vndSrc': ''}, 'streaming_type': 'orderFiler'}}\n",
    "Order Streaming Response:<class 'dict'> {'response': {'data': {'aTyp': 'OPTIDX', 'avgPrc': '0.00', 'boSeqId': '', 'bsktEpch': '', 'bsktOrdId': '', 'cName': ' ', 'cancel': 'true', 'cta': '', 'dExpDt': \"12 AUG'25\", 'dInsTyp': '', 'dQty': '0', 'desc': 'Buy 20 Qty @ &#8377 11.50', 'dpName': 'SENSEX', 'dur': 'DAY', 'edit': 'true', 'epochTim': '1754643691785060', 'exONo': '1754643589090359195', 'exc': 'BFO', 'exit': 'false', 'extOrdTim': '1754643691785060', 'fID': '', 'fPrc': '0.00', 'fQty': '0', 'isCOSecLeg': 'false', 'isSL': False, 'isTgt': False, 'lib': '960993191487819c37ffd0ae9f312b43', 'lsz': '20', 'nReqID': '1', 'oID': '250808000146157', 'oTyp': 'LIMIT', 'ogt': '--', 'opTyp': 'CE', 'ordRep': 'status', 'ordTim': '08/08/2025 14:31:31', 'pCode': 'NRML', 'pTyp': 'ORDER_UPDATE', 'prc': '11.50', 'rQty': '20', 'rRsn': '', 'rcvDt': '08/08/2025', 'rcvTim': '14:31:31', 'rmk': 'Test Order from Python Script 3', 'sID': '', 'srs': '', 'stkPrc': '82000.0', 'sts': 'open', 'sym': '842820_BFO', 'syomId': 'NA', 'tQty': '20', 'tSym': 'SENSEX2581282000CE', 'tTyp': 'BUY', 'trgPrc': '0.00', 'tsz': '0.05', 'userID': '70204607', 'usrCmnt': '', 'vlDt': '', 'vndAcOp': '', 'vndLst': [], 'vndSrc': ''}, 'streaming_type': 'orderFiler'}}\n",
    "Order Streaming Response:<class 'dict'> {'response': {'data': {'aTyp': 'OPTIDX', 'avgPrc': '11.50', 'boSeqId': '', 'bsktEpch': '', 'bsktOrdId': '', 'cName': ' ', 'cancel': 'false', 'cta': '', 'dExpDt': \"12 AUG'25\", 'dInsTyp': '', 'dQty': '0', 'desc': '20 Bought @ &#8377 11.50', 'dpName': 'SENSEX', 'dur': 'DAY', 'edit': 'false', 'epochTim': '1754643697828497', 'exONo': '1754643589090359195', 'exc': 'BFO', 'exit': 'false', 'extOrdTim': '1754643697828497', 'fID': '14417150', 'fPrc': '11.50', 'fQty': '20', 'isCOSecLeg': 'false', 'isSL': False, 'isTgt': False, 'lib': '960993191487819c37ffd0ae9f312b43', 'lsz': '20', 'nReqID': '1', 'oID': '250808000146157', 'oTyp': 'LIMIT', 'ogt': '--', 'opTyp': 'CE', 'ordRep': 'fill', 'ordTim': '08/08/2025 14:31:37', 'pCode': 'NRML', 'pTyp': 'ORDER_UPDATE', 'prc': '11.50', 'rQty': '0', 'rRsn': '', 'rcvDt': '08/08/2025', 'rcvTim': '14:31:37', 'rmk': 'Test Order from Python Script 3', 'sID': '', 'srs': '', 'stkPrc': '82000.0', 'sts': 'complete', 'sym': '842820_BFO', 'syomId': 'NA', 'tQty': '20', 'tSym': 'SENSEX2581282000CE', 'tTyp': 'BUY', 'trgPrc': '0.00', 'tsz': '0.05', 'userID': '70204607', 'usrCmnt': '', 'vlDt': '', 'vndAcOp': '', 'vndLst': [], 'vndSrc': ''}, 'streaming_type': 'orderFiler'}}\n",
    "Order Streaming Response:<class 'dict'> {'response': {'data': {'aTyp': 'OPTIDX', 'boSeqId': '', 'bsktEpch': '', 'bsktOrdId': '', 'cName': ' ', 'chg': '', 'chgP': '', 'dExpDt': \"12 AUG'25\", 'dInsTyp': '', 'dpName': 'SENSEX', 'epochTim': '1754643697828497', 'exONo': '1754643589090359195', 'exc': 'BFO', 'extOrdTim': '1754643697828497', 'fID': '14417150', 'fPrc': '11.50', 'fQty': '20', 'lib': '960993191487819c37ffd0ae9f312b43', 'lsz': '20', 'ltp': '', 'nReqID': '1', 'oID': '250808000146157', 'oTyp': 'LIMIT', 'opTyp': 'CE', 'ordRep': 'fill', 'ordTim': '08/08/2025 14:31:37', 'pCode': 'NRML', 'pConv': 'true', 'pTyp': 'TRADE_UPDATE', 'qty': '20', 'rcvDt': '08/08/2025', 'rcvTim': '14:31:37', 'rmk': 'Test Order from Python Script 3', 'srs': '', 'stkPrc': '82000.0', 'sts': 'complete', 'sym': '842820_BFO', 'syomId': 'NA', 'tPrc': '230.00', 'tSym': 'SENSEX2581282000CE', 'tTyp': 'BUY', 'tsz': '0.05', 'usrCmnt': '', 'vlDt': '', 'vndAcOp': '', 'vndLst': [], 'vndSrc': ''}, 'streaming_type': 'orderFiler'}}\n",
    "Error processing order streaming response: 'userID'"
   ]
  }
 ],
 "metadata": {
  "kernelspec": {
   "display_name": "venv",
   "language": "python",
   "name": "python3"
  },
  "language_info": {
   "codemirror_mode": {
    "name": "ipython",
    "version": 3
   },
   "file_extension": ".py",
   "mimetype": "text/x-python",
   "name": "python",
   "nbconvert_exporter": "python",
   "pygments_lexer": "ipython3",
   "version": "3.11.9"
  }
 },
 "nbformat": 4,
 "nbformat_minor": 5
}
