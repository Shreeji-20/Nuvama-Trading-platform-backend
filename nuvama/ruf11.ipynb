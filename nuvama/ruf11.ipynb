{
 "cells": [
  {
   "cell_type": "code",
   "execution_count": 1,
   "id": "e141c956",
   "metadata": {},
   "outputs": [],
   "source": [
    "# from basic_functions import common_functions\n",
    "x = 1\n",
    "# y = 2"
   ]
  },
  {
   "cell_type": "code",
   "execution_count": null,
   "id": "7027f72b",
   "metadata": {},
   "outputs": [
    {
     "data": {
      "text/plain": [
       "1"
      ]
     },
     "execution_count": 2,
     "metadata": {},
     "output_type": "execute_result"
    },
    {
     "ename": "",
     "evalue": "",
     "output_type": "error",
     "traceback": [
      "\u001b[1;31mThe Kernel crashed while executing code in the current cell or a previous cell. \n",
      "\u001b[1;31mPlease review the code in the cell(s) to identify a possible cause of the failure. \n",
      "\u001b[1;31mClick <a href='https://aka.ms/vscodeJupyterKernelCrash'>here</a> for more info. \n",
      "\u001b[1;31mView Jupyter <a href='command:jupyter.viewOutput'>log</a> for further details."
     ]
    }
   ],
   "source": [
    "locals().get('y', x)  # This will return 2 if 'y' exists, otherwise 0"
   ]
  },
  {
   "cell_type": "code",
   "execution_count": 2,
   "id": "52e31c71",
   "metadata": {},
   "outputs": [],
   "source": [
    "obj = common_functions()\n"
   ]
  },
  {
   "cell_type": "code",
   "execution_count": null,
   "id": "98e9c31b",
   "metadata": {},
   "outputs": [],
   "source": [
    "obj.refresh_strikes_and_options(expiry=0,symbol=\"NIFTY\")"
   ]
  },
  {
   "cell_type": "code",
   "execution_count": 1,
   "id": "1aeb07ff",
   "metadata": {},
   "outputs": [],
   "source": [
    "from stratergies import Stratergy1\n",
    "from stratergies_details import stratergies"
   ]
  },
  {
   "cell_type": "code",
   "execution_count": 2,
   "id": "f4f6313d",
   "metadata": {},
   "outputs": [
    {
     "name": "stdout",
     "output_type": "stream",
     "text": [
      "Initializing Orders class\n"
     ]
    }
   ],
   "source": [
    "stratergy_1 = Stratergy1(stratergies['Stratergy1']['params-1'])"
   ]
  },
  {
   "cell_type": "code",
   "execution_count": 3,
   "id": "b3724da1",
   "metadata": {},
   "outputs": [
    {
     "name": "stdout",
     "output_type": "stream",
     "text": [
      "{'response': {'data': {'askValues': [{'no': '3', 'price': '217.25', 'qty': '225'}, {'no': '8', 'price': '217.30', 'qty': '825'}, {'no': '6', 'price': '217.35', 'qty': '600'}, {'no': '6', 'price': '217.40', 'qty': '675'}, {'no': '7', 'price': '217.45', 'qty': '1050'}], 'bidValues': [{'no': '5', 'price': '216.85', 'qty': '375'}, {'no': '4', 'price': '216.80', 'qty': '375'}, {'no': '7', 'price': '216.75', 'qty': '675'}, {'no': '8', 'price': '216.70', 'qty': '1050'}, {'no': '3', 'price': '216.65', 'qty': '450'}], 'ltt': '11/08/2025 14:44:24', 'symbol': '44468_NFO', 'taq': '433800', 'tbq': '783825'}, 'streaming_type': 'quote2'}}\n",
      "{'response': {'data': {'askValues': [{'no': '10', 'price': '75.35', 'qty': '1725'}, {'no': '27', 'price': '75.40', 'qty': '6600'}, {'no': '15', 'price': '75.45', 'qty': '2925'}, {'no': '11', 'price': '75.50', 'qty': '2775'}, {'no': '15', 'price': '75.55', 'qty': '18825'}], 'bidValues': [{'no': '3', 'price': '75.20', 'qty': '600'}, {'no': '22', 'price': '75.15', 'qty': '4575'}, {'no': '15', 'price': '75.10', 'qty': '2700'}, {'no': '6', 'price': '75.05', 'qty': '1125'}, {'no': '24', 'price': '75.00', 'qty': '6675'}], 'ltt': '11/08/2025 14:44:24', 'symbol': '44473_NFO', 'taq': '2049675', 'tbq': '832200'}, 'streaming_type': 'quote2'}}\n"
     ]
    }
   ],
   "source": [
    "print(stratergy_1.base_leg)\n",
    "print(stratergy_1.other_leg)"
   ]
  },
  {
   "cell_type": "code",
   "execution_count": 13,
   "id": "71147acf",
   "metadata": {},
   "outputs": [],
   "source": [
    "stratergy_1.order_details['order_id'] = \"1\""
   ]
  },
  {
   "cell_type": "code",
   "execution_count": 4,
   "id": "21e054d1",
   "metadata": {},
   "outputs": [
    {
     "name": "stdout",
     "output_type": "stream",
     "text": [
      "{'user_id': '70249886', 'Trading_Symbol': 'NIFTY2581424500PE', 'Exchange': <ExchangeEnum.NFO: 'NFO'>, 'Action': <ActionEnum.BUY: 'BUY'>, 'Order_Type': <OrderTypeEnum.LIMIT: 'LIMIT'>, 'Quantity': 1, 'Streaming_Symbol': '44473_NFO', 'Limit_Price': '0', 'Disclosed_Quantity': 0, 'TriggerPrice': 0, 'ProductCode': <ProductCodeENum.NRML: 'NRML'>, 'remark': 'Lord_Shreeji'}\n",
      "{'user_id': '70249886', 'Trading_Symbol': 'NIFTY2581424400CE', 'Exchange': <ExchangeEnum.NFO: 'NFO'>, 'Action': <ActionEnum.BUY: 'BUY'>, 'Order_Type': <OrderTypeEnum.LIMIT: 'LIMIT'>, 'Quantity': 1, 'Streaming_Symbol': '44468_NFO', 'Limit_Price': '0', 'Disclosed_Quantity': 0, 'TriggerPrice': 0, 'ProductCode': <ProductCodeENum.NRML: 'NRML'>, 'remark': 'Lord_Shreeji'}\n"
     ]
    }
   ],
   "source": [
    "print(stratergy_1.order_details)\n",
    "print(stratergy_1.order_details_base_leg)"
   ]
  },
  {
   "cell_type": "code",
   "execution_count": null,
   "id": "a6cf4735",
   "metadata": {},
   "outputs": [],
   "source": [
    "stratergy_1.main_logic()"
   ]
  },
  {
   "cell_type": "code",
   "execution_count": 7,
   "id": "4c8e7560",
   "metadata": {},
   "outputs": [
    {
     "name": "stdout",
     "output_type": "stream",
     "text": [
      "{'user_id': '70249886', 'Trading_Symbol': 'NIFTY2581424500PE', 'Exchange': <ExchangeEnum.NFO: 'NFO'>, 'Action': <ActionEnum.BUY: 'BUY'>, 'Order_Type': <OrderTypeEnum.LIMIT: 'LIMIT'>, 'Quantity': 1, 'Streaming_Symbol': '44473_NFO', 'Limit_Price': '74.0', 'Disclosed_Quantity': 0, 'TriggerPrice': 0, 'ProductCode': <ProductCodeENum.NRML: 'NRML'>, 'remark': 'Lord_Shreeji'}\n"
     ]
    }
   ],
   "source": [
    "print(stratergy_1.order_details)"
   ]
  },
  {
   "cell_type": "code",
   "execution_count": 7,
   "id": "ea4ac204",
   "metadata": {},
   "outputs": [],
   "source": [
    "import redis\n",
    "import orjson\n",
    "import time\n",
    "from datetime import datetime, timedelta\n",
    "import orjson\n",
    "r = redis.Redis(host='localhost', port=6379, db=0)"
   ]
  },
  {
   "cell_type": "code",
   "execution_count": 8,
   "id": "50c17728",
   "metadata": {},
   "outputs": [
    {
     "name": "stdout",
     "output_type": "stream",
     "text": [
      "1.000615\n"
     ]
    }
   ],
   "source": [
    "t1 = datetime.now()\n",
    "time.sleep(1)\n",
    "t2 = datetime.now()\n",
    "print((t2-t1).total_seconds())"
   ]
  },
  {
   "cell_type": "code",
   "execution_count": 15,
   "id": "63eb09a9",
   "metadata": {},
   "outputs": [
    {
     "name": "stdout",
     "output_type": "stream",
     "text": [
      "0.059725\n"
     ]
    }
   ],
   "source": [
    "t1 = datetime.now()\n",
    "for i in range(0,100):\n",
    "    dummy = {\n",
    "        \"counter\":i\n",
    "    }\n",
    "    r.set(\"Counter\",orjson.dumps(dummy))\n",
    "    data = orjson.loads(r.get(\"Counter\").decode())\n",
    "t2 = datetime.now()\n",
    "print((t2-t1).total_seconds())"
   ]
  },
  {
   "cell_type": "code",
   "execution_count": 6,
   "id": "555d4a34",
   "metadata": {},
   "outputs": [
    {
     "data": {
      "text/plain": [
       "True"
      ]
     },
     "execution_count": 6,
     "metadata": {},
     "output_type": "execute_result"
    }
   ],
   "source": [
    "user = {\"70204607\":{\n",
    "        \"apikey\":\"eYbfnWSPPT1-2g\",\n",
    "        \"apisecret\":\"u9&5EIV_K5f8^Sm+\",\n",
    "        \"reqid\":\"\" \n",
    "            }}\n",
    "r.set(f\"70204607\",json.dumps(user['70204607']))"
   ]
  }
 ],
 "metadata": {
  "kernelspec": {
   "display_name": "venv",
   "language": "python",
   "name": "python3"
  },
  "language_info": {
   "codemirror_mode": {
    "name": "ipython",
    "version": 3
   },
   "file_extension": ".py",
   "mimetype": "text/x-python",
   "name": "python",
   "nbconvert_exporter": "python",
   "pygments_lexer": "ipython3",
   "version": "3.11.9"
  }
 },
 "nbformat": 4,
 "nbformat_minor": 5
}
