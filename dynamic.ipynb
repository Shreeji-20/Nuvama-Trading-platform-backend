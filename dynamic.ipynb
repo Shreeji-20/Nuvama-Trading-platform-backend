{
 "cells": [
  {
   "cell_type": "code",
   "execution_count": null,
   "id": "c951aeaa",
   "metadata": {},
   "outputs": [],
   "source": [
    "%reload_ext autoreload\n",
    "%load_ext autoreload\n",
    "%autoreload 2\n",
    "import nuvama.box_with_dynamic_strikes\n"
   ]
  },
  {
   "cell_type": "code",
   "execution_count": null,
   "id": "cf671393",
   "metadata": {},
   "outputs": [],
   "source": [
    "from nuvama.box_with_dynamic_strikes import StratergyDirectIOCBoxDynamicStrikes\n",
    "import redis\n",
    "import json\n",
    "import importlib\n"
   ]
  },
  {
   "cell_type": "code",
   "execution_count": null,
   "id": "9b2a9445",
   "metadata": {},
   "outputs": [],
   "source": [
    "params = {\n",
    "   \n",
    "    \"desired_spread\": 448.5,\n",
    "    \"exit_desired_spread\": 451,\n",
    "    \"action\": \"BUY\",\n",
    "    \"quantity_multiplier\": 1,\n",
    "    \"slice_multiplier\": 1,\n",
    "    \"user_ids\": [\n",
    "        \"70249886\"\n",
    "    ],\n",
    "    \"run_state\": 3,\n",
    "    \"order_type\": \"LIMIT\",\n",
    "    \"no_of_bidask_average\": 1,\n",
    "    \"notes\": \"Imported from MultiLeg: Price-adjust | Bidding Leg: NIFTY 25250 CE\",\n",
    "    \"pricing_method\": \"depth\",\n",
    "    \"depth_index\": 1,\n",
    "    \"profit_threshold_sell\": 2,\n",
    "    \"profit_threshold_buy\": 2,\n",
    "    \"itm_steps\":4,\n",
    "    \"otm_steps\":4,\n",
    "    \"symbol\":\"NIFTY\",\n",
    "    \"expiry\":0 ,\n",
    "    \"quantity\":75\n",
    "   \n",
    "}\n",
    "\n"
   ]
  },
  {
   "cell_type": "code",
   "execution_count": null,
   "id": "d85a36a5",
   "metadata": {},
   "outputs": [],
   "source": [
    "obj = StratergyDirectIOCBoxDynamicStrikes(params=params)\n",
    "obj._init_legs_and_orders()"
   ]
  },
  {
   "cell_type": "code",
   "execution_count": null,
   "id": "6aef6e61",
   "metadata": {},
   "outputs": [],
   "source": [
    "print(json.dumps(obj.params,indent=2))"
   ]
  },
  {
   "cell_type": "code",
   "execution_count": null,
   "id": "384024a1",
   "metadata": {},
   "outputs": [],
   "source": [
    "import requests\n",
    "\n",
    "response = requests.get('http://100.98.41.25:8000/index')"
   ]
  },
  {
   "cell_type": "code",
   "execution_count": null,
   "id": "107d0c6c",
   "metadata": {},
   "outputs": [],
   "source": [
    "print(\"response\",response.json())"
   ]
  }
 ],
 "metadata": {
  "kernelspec": {
   "display_name": "venv",
   "language": "python",
   "name": "python3"
  },
  "language_info": {
   "codemirror_mode": {
    "name": "ipython",
    "version": 3
   },
   "file_extension": ".py",
   "mimetype": "text/x-python",
   "name": "python",
   "nbconvert_exporter": "python",
   "pygments_lexer": "ipython3",
   "version": "3.12.3"
  }
 },
 "nbformat": 4,
 "nbformat_minor": 5
}
