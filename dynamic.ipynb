{
 "cells": [
  {
   "cell_type": "code",
   "execution_count": 20,
   "id": "c951aeaa",
   "metadata": {},
   "outputs": [
    {
     "name": "stdout",
     "output_type": "stream",
     "text": [
      "The autoreload extension is already loaded. To reload it, use:\n",
      "  %reload_ext autoreload\n"
     ]
    }
   ],
   "source": [
    "%reload_ext autoreload\n",
    "%load_ext autoreload\n",
    "%autoreload 2\n",
    "import nuvama.box_with_dynamic_strikes\n"
   ]
  },
  {
   "cell_type": "code",
   "execution_count": 21,
   "id": "cf671393",
   "metadata": {},
   "outputs": [],
   "source": [
    "from nuvama.box_with_dynamic_strikes import StratergyDirectIOCBoxDynamicStrikes\n",
    "import redis\n",
    "import json\n",
    "import importlib\n"
   ]
  },
  {
   "cell_type": "code",
   "execution_count": 28,
   "id": "9b2a9445",
   "metadata": {},
   "outputs": [],
   "source": [
    "params = {\n",
    "   \n",
    "    \"desired_spread\": 448.5,\n",
    "    \"exit_desired_spread\": 451,\n",
    "    \"action\": \"BUY\",\n",
    "    \"quantity_multiplier\": 1,\n",
    "    \"slice_multiplier\": 1,\n",
    "    \"user_ids\": [\n",
    "        \"70249886\"\n",
    "    ],\n",
    "    \"run_state\": 3,\n",
    "    \"order_type\": \"LIMIT\",\n",
    "    \"no_of_bidask_average\": 1,\n",
    "    \"notes\": \"Imported from MultiLeg: Price-adjust | Bidding Leg: NIFTY 25250 CE\",\n",
    "    \"pricing_method\": \"depth\",\n",
    "    \"depth_index\": 1,\n",
    "    \"profit_threshold_sell\": 2,\n",
    "    \"profit_threshold_buy\": 2,\n",
    "    \"itm_steps\":4,\n",
    "    \"otm_steps\":4,\n",
    "    \"symbol\":\"NIFTY\",\n",
    "    \"expiry\":0 ,\n",
    "    \"quantity\":75\n",
    "   \n",
    "}\n",
    "\n"
   ]
  },
  {
   "cell_type": "code",
   "execution_count": 32,
   "id": "d85a36a5",
   "metadata": {},
   "outputs": [
    {
     "name": "stdout",
     "output_type": "stream",
     "text": [
      "Initializing Direct IOC Box Strategy with Dynamic Strikes... 123\n",
      "\u001b[94m\u001b[1m[2025-09-12 13:56:11.967] [INFO]\u001b[0m \u001b[94mStrategy initialized in SIMULATION mode\u001b[0m\n",
      "\u001b[94m  └─ Details: Params ID: 20250912_135611\u001b[0m\n",
      "\u001b[94m\u001b[1m[2025-09-12 13:56:11.968] [INFO]\u001b[0m \u001b[94mStrategy instance cleanup completed\u001b[0m\n",
      "\u001b[94m\u001b[1m[2025-09-12 13:56:11.970] [INFO]\u001b[0m \u001b[94mAuto-detected BUY legs\u001b[0m\n",
      "\u001b[94m  └─ Details: ['leg3', 'leg4']\u001b[0m\n",
      "\u001b[94m\u001b[1m[2025-09-12 13:56:11.971] [INFO]\u001b[0m \u001b[94mAuto-detected SELL legs\u001b[0m\n",
      "\u001b[94m  └─ Details: ['leg1', 'leg2']\u001b[0m\n",
      "INFO: Pair 1 - Bidding: leg3, Base: leg4\n",
      "INFO: Pair 2 - Bidding: leg1, Base: leg2\n"
     ]
    }
   ],
   "source": [
    "obj = StratergyDirectIOCBoxDynamicStrikes(params=params)\n",
    "obj._init_legs_and_orders()"
   ]
  },
  {
   "cell_type": "code",
   "execution_count": 33,
   "id": "6aef6e61",
   "metadata": {},
   "outputs": [
    {
     "name": "stdout",
     "output_type": "stream",
     "text": [
      "{\n",
      "  \"desired_spread\": 448.5,\n",
      "  \"exit_desired_spread\": 451,\n",
      "  \"action\": \"BUY\",\n",
      "  \"quantity_multiplier\": 1,\n",
      "  \"slice_multiplier\": 1,\n",
      "  \"user_ids\": [\n",
      "    \"70249886\"\n",
      "  ],\n",
      "  \"run_state\": 3,\n",
      "  \"order_type\": \"LIMIT\",\n",
      "  \"no_of_bidask_average\": 1,\n",
      "  \"notes\": \"Imported from MultiLeg: Price-adjust | Bidding Leg: NIFTY 25250 CE\",\n",
      "  \"pricing_method\": \"depth\",\n",
      "  \"depth_index\": 1,\n",
      "  \"profit_threshold_sell\": 2,\n",
      "  \"profit_threshold_buy\": 2,\n",
      "  \"itm_steps\": 4,\n",
      "  \"otm_steps\": 4,\n",
      "  \"symbol\": \"NIFTY\",\n",
      "  \"expiry\": 0,\n",
      "  \"quantity\": 75,\n",
      "  \"leg1\": {\n",
      "    \"strike\": 24900,\n",
      "    \"type\": \"CE\",\n",
      "    \"symbol\": \"NIFTY\",\n",
      "    \"expiry\": 0,\n",
      "    \"quantity\": 75,\n",
      "    \"action\": \"SELL\"\n",
      "  },\n",
      "  \"leg2\": {\n",
      "    \"strike\": 25300,\n",
      "    \"type\": \"PE\",\n",
      "    \"symbol\": \"NIFTY\",\n",
      "    \"expiry\": 0,\n",
      "    \"quantity\": 75,\n",
      "    \"action\": \"SELL\"\n",
      "  },\n",
      "  \"leg3\": {\n",
      "    \"strike\": 24900,\n",
      "    \"type\": \"CE\",\n",
      "    \"symbol\": \"NIFTY\",\n",
      "    \"expiry\": 0,\n",
      "    \"quantity\": 75,\n",
      "    \"action\": \"BUY\"\n",
      "  },\n",
      "  \"leg4\": {\n",
      "    \"strike\": 25300,\n",
      "    \"type\": \"PE\",\n",
      "    \"symbol\": \"NIFTY\",\n",
      "    \"expiry\": 0,\n",
      "    \"quantity\": 75,\n",
      "    \"action\": \"BUY\"\n",
      "  }\n",
      "}\n"
     ]
    }
   ],
   "source": [
    "print(json.dumps(obj.params,indent=2))"
   ]
  },
  {
   "cell_type": "code",
   "execution_count": null,
   "id": "384024a1",
   "metadata": {},
   "outputs": [],
   "source": []
  }
 ],
 "metadata": {
  "kernelspec": {
   "display_name": "venv",
   "language": "python",
   "name": "python3"
  },
  "language_info": {
   "codemirror_mode": {
    "name": "ipython",
    "version": 3
   },
   "file_extension": ".py",
   "mimetype": "text/x-python",
   "name": "python",
   "nbconvert_exporter": "python",
   "pygments_lexer": "ipython3",
   "version": "3.12.3"
  }
 },
 "nbformat": 4,
 "nbformat_minor": 5
}
