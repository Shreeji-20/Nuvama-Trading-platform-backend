{
 "cells": [
  {
   "cell_type": "code",
   "execution_count": null,
   "id": "c5d62961",
   "metadata": {},
   "outputs": [],
   "source": [
    "from basic_functions import common_functions\n",
    "import time"
   ]
  },
  {
   "cell_type": "code",
   "execution_count": null,
   "id": "2562e583",
   "metadata": {},
   "outputs": [],
   "source": [
    "obj = common_functions()\n",
    "data = obj.refresh_strikes_and_options(symbol='SENSEX')\n",
    "# time.sleep(10)  # Optional: wait before refreshing NIFTY options\n",
    "# data2 = obj.refresh_strikes_and_options(symbol='NIFTY')"
   ]
  },
  {
   "cell_type": "code",
   "execution_count": null,
   "id": "faea0ef0",
   "metadata": {},
   "outputs": [],
   "source": [
    "import redis\n",
    "import json\n",
    "r = redis.Redis(host='localhost', port=6379, db=0)"
   ]
  },
  {
   "cell_type": "code",
   "execution_count": null,
   "id": "63813873",
   "metadata": {},
   "outputs": [],
   "source": [
    "strikes_nifty = json.loads(r.get(\"strikes:NIFTY\"))\n",
    "strikes_sensex = json.loads(r.get(\"strikes:SENSEX\"))"
   ]
  },
  {
   "cell_type": "code",
   "execution_count": null,
   "id": "f8e23869",
   "metadata": {},
   "outputs": [],
   "source": [
    "print(strikes_nifty)\n",
    "print(len(list(set(strikes_nifty + strikes_sensex))))"
   ]
  },
  {
   "cell_type": "code",
   "execution_count": null,
   "id": "c0bde6b8",
   "metadata": {},
   "outputs": [],
   "source": [
    "data = obj.refresh_strikes_and_options(symbol='SENSEX',expiry=1)"
   ]
  },
  {
   "cell_type": "code",
   "execution_count": null,
   "id": "5bcca3c3",
   "metadata": {},
   "outputs": [],
   "source": [
    "data = obj.refresh_strikes_and_options(symbol='NIFTY')"
   ]
  },
  {
   "cell_type": "code",
   "execution_count": null,
   "id": "00d3c75b",
   "metadata": {},
   "outputs": [],
   "source": [
    "r.flushdb()"
   ]
  },
  {
   "cell_type": "code",
   "execution_count": null,
   "id": "002973e5",
   "metadata": {},
   "outputs": [],
   "source": [
    "while True:\n",
    "    ce = json.loads(r.get(\"depth:SENSEX_80000.0_CE-0\").decode())\n",
    "    pe = json.loads(r.get(\"depth:SENSEX_80000.0_PE-0\").decode())\n",
    "    print(float(ce['response']['data']['bidValues'][0]['price']) + float(pe['response']['data']['bidValues'][0]['price']),end=  '\\r')"
   ]
  },
  {
   "cell_type": "code",
   "execution_count": null,
   "id": "0e1ab8fa",
   "metadata": {},
   "outputs": [],
   "source": [
    "ce = json.loads(r.get(\"depth:SENSEX_80000.0_CE-0\").decode())\n",
    "pe = json.loads(r.get(\"depth:SENSEX_80000.0_PE-0\").decode())"
   ]
  },
  {
   "cell_type": "code",
   "execution_count": null,
   "id": "3dc00acb",
   "metadata": {},
   "outputs": [],
   "source": [
    "print(ce)\n",
    "print(type(ce))"
   ]
  },
  {
   "cell_type": "code",
   "execution_count": null,
   "id": "bd99b4dc",
   "metadata": {},
   "outputs": [],
   "source": [
    "data2 = obj.refresh_strikes_and_options(symbol='NIFTY')"
   ]
  },
  {
   "cell_type": "code",
   "execution_count": null,
   "id": "701d35ae",
   "metadata": {},
   "outputs": [],
   "source": [
    "from constants.exchange import ExchangeEnum\n",
    "from constants.order_type import OrderTypeEnum\n",
    "from constants.product_code import ProductCodeENum\n",
    "from constants.duration import DurationEnum\n",
    "from constants.action import ActionEnum\n",
    "from order_class import Orders\n",
    "order_details = {\n",
    "    \"Trading_Symbol\": \"SENSEX2581282000CE\",\n",
    "    \"Exchange\": ExchangeEnum.BFO,\n",
    "    \"Action\": ActionEnum.BUY,\n",
    "    \"Duration\": \"DAY\",\n",
    "    \"Order_Type\": OrderTypeEnum.LIMIT,\n",
    "    \"Quantity\": 20,\n",
    "    \"Streaming_Symbol\": \"842820_BFO\",\n",
    "    \"Limit_Price\": \"5\",\n",
    "    \"Disclosed_Quantity\": \"0\",\n",
    "    \"TriggerPrice\": \"0\",\n",
    "    \"Product_Code\": ProductCodeENum.NRML,\n",
    "    \"user_id\": \"70204607\",\n",
    "    \"remark\": \"Test Order from Python Script 5\"\n",
    "}"
   ]
  },
  {
   "cell_type": "code",
   "execution_count": null,
   "id": "0d8265c4",
   "metadata": {},
   "outputs": [],
   "source": [
    "from APIConnect.APIConnect import APIConnect\n",
    "api_connect = APIConnect(\"iBe07GpBTEbbhg\", \"\", \"\", False, \"\",\"../login_data/\")"
   ]
  },
  {
   "cell_type": "code",
   "execution_count": null,
   "id": "1754342b",
   "metadata": {},
   "outputs": [],
   "source": [
    "order = Orders()\n",
    "# order.place_order(order_details,api_connect)"
   ]
  },
  {
   "cell_type": "code",
   "execution_count": null,
   "id": "ea11e457",
   "metadata": {},
   "outputs": [],
   "source": [
    "res = order.place_order(order_details)"
   ]
  },
  {
   "cell_type": "code",
   "execution_count": null,
   "id": "04d7a93f",
   "metadata": {},
   "outputs": [],
   "source": [
    "cancel = order.cancel_order(250808000169462)"
   ]
  },
  {
   "cell_type": "code",
   "execution_count": null,
   "id": "e8b309b3",
   "metadata": {},
   "outputs": [],
   "source": [
    "import time\n",
    "\n",
    "print(int(time.time() * 1000))"
   ]
  },
  {
   "cell_type": "code",
   "execution_count": null,
   "id": "f8de69da",
   "metadata": {},
   "outputs": [
    {
     "name": "stdout",
     "output_type": "stream",
     "text": [
      "True\n",
      "75\n"
     ]
    }
   ],
   "source": [
    "x = 4\n",
    "y = 6\n",
    "import math\n",
    "isbigger = x>y if x==5 else y>x\n",
    "\n",
    "slices = 150\n",
    "print(isbigger)\n",
    "x = math.floor(375%150)\n",
    "\n",
    "if qty > sliceqty:\n",
    "    qty\n",
    "else:\n",
    "    remaining qty\n",
    "print(x)\n",
    "# if x > 1:\n",
    "#     print(150)\n",
    "# else:\n",
    "#     print(x)\n"
   ]
  }
 ],
 "metadata": {
  "kernelspec": {
   "display_name": "venv",
   "language": "python",
   "name": "python3"
  },
  "language_info": {
   "codemirror_mode": {
    "name": "ipython",
    "version": 3
   },
   "file_extension": ".py",
   "mimetype": "text/x-python",
   "name": "python",
   "nbconvert_exporter": "python",
   "pygments_lexer": "ipython3",
   "version": "3.11.9"
  }
 },
 "nbformat": 4,
 "nbformat_minor": 5
}
