{
 "cells": [
  {
   "cell_type": "code",
   "execution_count": null,
   "id": "c5d62961",
   "metadata": {},
   "outputs": [],
   "source": [
    "from basic_functions import common_functions\n",
    "import time"
   ]
  },
  {
   "cell_type": "code",
   "execution_count": null,
   "id": "2562e583",
   "metadata": {},
   "outputs": [],
   "source": [
    "obj = common_functions()\n",
    "data = obj.refresh_strikes_and_options(symbol='SENSEX')\n",
    "# time.sleep(10)  # Optional: wait before refreshing NIFTY options\n",
    "# data2 = obj.refresh_strikes_and_options(symbol='NIFTY')"
   ]
  },
  {
   "cell_type": "code",
   "execution_count": null,
   "id": "faea0ef0",
   "metadata": {},
   "outputs": [],
   "source": [
    "import redis\n",
    "import json\n",
    "r = redis.Redis(host='localhost', port=6379, db=0)"
   ]
  },
  {
   "cell_type": "code",
   "execution_count": null,
   "id": "63813873",
   "metadata": {},
   "outputs": [],
   "source": [
    "strikes_nifty = json.loads(r.get(\"strikes:NIFTY\"))\n",
    "strikes_sensex = json.loads(r.get(\"strikes:SENSEX\"))"
   ]
  },
  {
   "cell_type": "code",
   "execution_count": null,
   "id": "f8e23869",
   "metadata": {},
   "outputs": [],
   "source": [
    "print(strikes_nifty)\n",
    "print(len(list(set(strikes_nifty + strikes_sensex))))"
   ]
  },
  {
   "cell_type": "code",
   "execution_count": null,
   "id": "c0bde6b8",
   "metadata": {},
   "outputs": [],
   "source": [
    "data = obj.refresh_strikes_and_options(symbol='SENSEX',expiry=1)"
   ]
  },
  {
   "cell_type": "code",
   "execution_count": null,
   "id": "5bcca3c3",
   "metadata": {},
   "outputs": [],
   "source": [
    "data = obj.refresh_strikes_and_options(symbol='NIFTY')"
   ]
  },
  {
   "cell_type": "code",
   "execution_count": null,
   "id": "00d3c75b",
   "metadata": {},
   "outputs": [],
   "source": [
    "r.flushdb()"
   ]
  },
  {
   "cell_type": "code",
   "execution_count": null,
   "id": "002973e5",
   "metadata": {},
   "outputs": [],
   "source": [
    "while True:\n",
    "    ce = json.loads(r.get(\"depth:SENSEX_80000.0_CE-0\").decode())\n",
    "    pe = json.loads(r.get(\"depth:SENSEX_80000.0_PE-0\").decode())\n",
    "    print(float(ce['response']['data']['bidValues'][0]['price']) + float(pe['response']['data']['bidValues'][0]['price']),end=  '\\r')"
   ]
  },
  {
   "cell_type": "code",
   "execution_count": null,
   "id": "0e1ab8fa",
   "metadata": {},
   "outputs": [],
   "source": [
    "ce = json.loads(r.get(\"depth:SENSEX_80000.0_CE-0\").decode())\n",
    "pe = json.loads(r.get(\"depth:SENSEX_80000.0_PE-0\").decode())"
   ]
  },
  {
   "cell_type": "code",
   "execution_count": null,
   "id": "3dc00acb",
   "metadata": {},
   "outputs": [],
   "source": [
    "print(ce)\n",
    "print(type(ce))"
   ]
  },
  {
   "cell_type": "code",
   "execution_count": null,
   "id": "bd99b4dc",
   "metadata": {},
   "outputs": [],
   "source": [
    "data2 = obj.refresh_strikes_and_options(symbol='NIFTY')"
   ]
  },
  {
   "cell_type": "code",
   "execution_count": 3,
   "id": "701d35ae",
   "metadata": {},
   "outputs": [],
   "source": [
    "from constants.exchange import ExchangeEnum\n",
    "from constants.order_type import OrderTypeEnum\n",
    "from constants.product_code import ProductCodeENum\n",
    "from constants.duration import DurationEnum\n",
    "from constants.action import ActionEnum\n",
    "from order_class import Orders\n",
    "order_details = {\n",
    "    \"Trading_Symbol\": \"NIFTY25AUG25750CE\",\n",
    "    \"Exchange\": ExchangeEnum.BFO,\n",
    "    \"Action\": ActionEnum.BUY,\n",
    "    \"Duration\": \"DAY\",\n",
    "    \"Order_Type\": OrderTypeEnum.LIMIT,\n",
    "    \"Quantity\": 75,\n",
    "    \"Streaming_Symbol\": \"72098_NFO\",\n",
    "    \"Limit_Price\": \"1.5\",\n",
    "    \"Disclosed_Quantity\": \"0\",\n",
    "    \"TriggerPrice\": \"0\",\n",
    "    \"Product_Code\": ProductCodeENum.NRML,\n",
    "    \"user_id\": \"70204607\",\n",
    "    \"remark\": \"Test Order from Python Script 5\"\n",
    "}"
   ]
  },
  {
   "cell_type": "code",
   "execution_count": 2,
   "id": "0d8265c4",
   "metadata": {},
   "outputs": [],
   "source": [
    "from APIConnect.APIConnect import APIConnect\n",
    "api_connect = APIConnect(\"iBe07GpBTEbbhg\", \"\", \"\", False, \"\")"
   ]
  },
  {
   "cell_type": "code",
   "execution_count": null,
   "id": "468f9ae2",
   "metadata": {},
   "outputs": [
    {
     "ename": "TypeError",
     "evalue": "missing a required argument: 'segment'",
     "output_type": "error",
     "traceback": [
      "\u001b[31m---------------------------------------------------------------------------\u001b[39m",
      "\u001b[31mTypeError\u001b[39m                                 Traceback (most recent call last)",
      "\u001b[36mCell\u001b[39m\u001b[36m \u001b[39m\u001b[32mIn[4]\u001b[39m\u001b[32m, line 1\u001b[39m\n\u001b[32m----> \u001b[39m\u001b[32m1\u001b[39m logout = \u001b[43mapi_connect\u001b[49m\u001b[43m.\u001b[49m\u001b[43mGetAllTransactionHistory\u001b[49m\u001b[43m(\u001b[49m\u001b[43m)\u001b[49m\n",
      "\u001b[36mFile \u001b[39m\u001b[32mc:\\Users\\shree\\OneDrive\\Desktop\\TrueData\\venv\\Lib\\site-packages\\APIConnect\\validator.py:74\u001b[39m, in \u001b[36mValidator.isRequired.<locals>.real_decorator.<locals>.wrapper\u001b[39m\u001b[34m(*args, **kwargs)\u001b[39m\n\u001b[32m     71\u001b[39m variables_value_map = \u001b[38;5;28mdict\u001b[39m(\n\u001b[32m     72\u001b[39m     \u001b[38;5;28mzip\u001b[39m(inspect.signature(func).parameters, args+\u001b[38;5;28mtuple\u001b[39m(kwargs.values())))\n\u001b[32m     73\u001b[39m is_none_or_empty_test(func, variables_value_map, required)\n\u001b[32m---> \u001b[39m\u001b[32m74\u001b[39m \u001b[38;5;28;01mreturn\u001b[39;00m \u001b[43mfunc\u001b[49m\u001b[43m(\u001b[49m\u001b[43m*\u001b[49m\u001b[43margs\u001b[49m\u001b[43m,\u001b[49m\u001b[43m \u001b[49m\u001b[43m*\u001b[49m\u001b[43m*\u001b[49m\u001b[43mkwargs\u001b[49m\u001b[43m)\u001b[49m\n",
      "\u001b[36mFile \u001b[39m\u001b[32mc:\\Users\\shree\\OneDrive\\Desktop\\TrueData\\venv\\Lib\\site-packages\\APIConnect\\validator.py:18\u001b[39m, in \u001b[36mValidator.ValidateInputDataTypes.<locals>.validate\u001b[39m\u001b[34m(*args, **kwargs)\u001b[39m\n\u001b[32m     15\u001b[39m \u001b[38;5;129m@functools\u001b[39m.wraps(func)\n\u001b[32m     16\u001b[39m \u001b[38;5;28;01mdef\u001b[39;00m\u001b[38;5;250m \u001b[39m\u001b[34mvalidate\u001b[39m(*args, **kwargs):\n\u001b[32m     17\u001b[39m     \u001b[38;5;66;03m# a mapping of variable names from the function definition and the values given at function call time\u001b[39;00m\n\u001b[32m---> \u001b[39m\u001b[32m18\u001b[39m     variables_value_map = \u001b[38;5;28mdict\u001b[39m(\u001b[43minspect\u001b[49m\u001b[43m.\u001b[49m\u001b[43msignature\u001b[49m\u001b[43m(\u001b[49m\u001b[43mfunc\u001b[49m\u001b[43m)\u001b[49m\u001b[43m.\u001b[49m\u001b[43mbind\u001b[49m\u001b[43m(\u001b[49m\u001b[43m*\u001b[49m\u001b[43margs\u001b[49m\u001b[43m,\u001b[49m\u001b[43m \u001b[49m\u001b[43m*\u001b[49m\u001b[43m*\u001b[49m\u001b[43mkwargs\u001b[49m\u001b[43m)\u001b[49m.arguments)\n\u001b[32m     20\u001b[39m     \u001b[38;5;66;03m# a mapping of variables and their type annotations provided in function defintion\u001b[39;00m\n\u001b[32m     21\u001b[39m     \u001b[38;5;28;01mfor\u001b[39;00m variable, type_annotation \u001b[38;5;129;01min\u001b[39;00m func.\u001b[34m__annotations__\u001b[39m.items():\n",
      "\u001b[36mFile \u001b[39m\u001b[32mE:\\Python311.9\\Lib\\inspect.py:3195\u001b[39m, in \u001b[36mSignature.bind\u001b[39m\u001b[34m(self, *args, **kwargs)\u001b[39m\n\u001b[32m   3190\u001b[39m \u001b[38;5;28;01mdef\u001b[39;00m\u001b[38;5;250m \u001b[39m\u001b[34mbind\u001b[39m(\u001b[38;5;28mself\u001b[39m, /, *args, **kwargs):\n\u001b[32m   3191\u001b[39m \u001b[38;5;250m    \u001b[39m\u001b[33;03m\"\"\"Get a BoundArguments object, that maps the passed `args`\u001b[39;00m\n\u001b[32m   3192\u001b[39m \u001b[33;03m    and `kwargs` to the function's signature.  Raises `TypeError`\u001b[39;00m\n\u001b[32m   3193\u001b[39m \u001b[33;03m    if the passed arguments can not be bound.\u001b[39;00m\n\u001b[32m   3194\u001b[39m \u001b[33;03m    \"\"\"\u001b[39;00m\n\u001b[32m-> \u001b[39m\u001b[32m3195\u001b[39m     \u001b[38;5;28;01mreturn\u001b[39;00m \u001b[38;5;28;43mself\u001b[39;49m\u001b[43m.\u001b[49m\u001b[43m_bind\u001b[49m\u001b[43m(\u001b[49m\u001b[43margs\u001b[49m\u001b[43m,\u001b[49m\u001b[43m \u001b[49m\u001b[43mkwargs\u001b[49m\u001b[43m)\u001b[49m\n",
      "\u001b[36mFile \u001b[39m\u001b[32mE:\\Python311.9\\Lib\\inspect.py:3110\u001b[39m, in \u001b[36mSignature._bind\u001b[39m\u001b[34m(self, args, kwargs, partial)\u001b[39m\n\u001b[32m   3108\u001b[39m                 msg = \u001b[33m'\u001b[39m\u001b[33mmissing a required argument: \u001b[39m\u001b[38;5;132;01m{arg!r}\u001b[39;00m\u001b[33m'\u001b[39m\n\u001b[32m   3109\u001b[39m                 msg = msg.format(arg=param.name)\n\u001b[32m-> \u001b[39m\u001b[32m3110\u001b[39m                 \u001b[38;5;28;01mraise\u001b[39;00m \u001b[38;5;167;01mTypeError\u001b[39;00m(msg) \u001b[38;5;28;01mfrom\u001b[39;00m\u001b[38;5;250m \u001b[39m\u001b[38;5;28;01mNone\u001b[39;00m\n\u001b[32m   3111\u001b[39m \u001b[38;5;28;01melse\u001b[39;00m:\n\u001b[32m   3112\u001b[39m     \u001b[38;5;66;03m# We have a positional argument to process\u001b[39;00m\n\u001b[32m   3113\u001b[39m     \u001b[38;5;28;01mtry\u001b[39;00m:\n",
      "\u001b[31mTypeError\u001b[39m: missing a required argument: 'segment'"
     ]
    }
   ],
   "source": [
    "logout = api_connect.PlaceBasketTrade()"
   ]
  },
  {
   "cell_type": "code",
   "execution_count": null,
   "id": "7ddb83c4",
   "metadata": {},
   "outputs": [],
   "source": [
    "from constants.segment_type import SegmentTypeEnum\n",
    "x = api_connect"
   ]
  },
  {
   "cell_type": "code",
   "execution_count": 1,
   "id": "35cd478f",
   "metadata": {},
   "outputs": [
    {
     "ename": "NameError",
     "evalue": "name 'x' is not defined",
     "output_type": "error",
     "traceback": [
      "\u001b[31m---------------------------------------------------------------------------\u001b[39m",
      "\u001b[31mNameError\u001b[39m                                 Traceback (most recent call last)",
      "\u001b[36mCell\u001b[39m\u001b[36m \u001b[39m\u001b[32mIn[1]\u001b[39m\u001b[32m, line 1\u001b[39m\n\u001b[32m----> \u001b[39m\u001b[32m1\u001b[39m \u001b[38;5;28mprint\u001b[39m(\u001b[43mx\u001b[49m)\n",
      "\u001b[31mNameError\u001b[39m: name 'x' is not defined"
     ]
    }
   ],
   "source": [
    "print(x)"
   ]
  },
  {
   "cell_type": "code",
   "execution_count": 4,
   "id": "b588d4fb",
   "metadata": {},
   "outputs": [
    {
     "name": "stdout",
     "output_type": "stream",
     "text": [
      "{\"appID\": \"960993191487819c37ffd0ae9f312b43\", \"config\": {\"app\": 1, \"exp\": 1756166422502, \"info\": 4}, \"data\": {\"type\": \"tradeResponseDto\", \"msg\": \"Your order has been placed succesfully!.\", \"oid\": \"250826000182333\"}, \"msgID\": \"2997eac2-66ab-48a4-afef-3e5efc695c24\", \"srvTm\": 1756199348664}\n"
     ]
    }
   ],
   "source": [
    "from constants.exchange import ExchangeEnum\n",
    "from constants.order_type import OrderTypeEnum\n",
    "from constants.product_code import ProductCodeENum\n",
    "from constants.duration import DurationEnum\n",
    "from constants.action import ActionEnum\n",
    "\n",
    "response = api_connect.PlaceTrade(Trading_Symbol = \"NIFTY25AUG25750CE\", Exchange = ExchangeEnum.NFO, Action = ActionEnum.BUY, Duration = DurationEnum.DAY, Order_Type = OrderTypeEnum.MARKET, Quantity = 75, Streaming_Symbol = \"72098_NFO\", Limit_Price = \"0\", Disclosed_Quantity=\"0\", TriggerPrice=\"0\", ProductCode = ProductCodeENum.NRML)\n",
    "print(response)"
   ]
  },
  {
   "cell_type": "code",
   "execution_count": 7,
   "id": "9900e247",
   "metadata": {},
   "outputs": [
    {
     "name": "stdout",
     "output_type": "stream",
     "text": [
      "reqid:70249886\n",
      "API object exists for user iBe07GpBTEbbhg\n",
      "reqid:70204607\n",
      "API object exists for user 2BlEHXuabO8xRw\n"
     ]
    }
   ],
   "source": [
    "import redis\n",
    "import json\n",
    "r = redis.Redis(host=\"localhost\", port=6379, db=0)\n",
    "users = r.keys(\"user:*\")\n",
    "data = [json.loads(r.get(user)) for user in users]\n",
    "user_obj_dict = {}\n",
    "        # print(f\"reqid:{item.get('user_id')}\")\n",
    "for item in data:\n",
    "    print(f\"reqid:{item.get('userid')}\")\n",
    "    if r.exists(f\"reqid:{item.get('userid')}\"):\n",
    "        print(f\"API object exists for user {item.get('apikey')}\")\n",
    "        user_obj_dict[item.get(\"userid\")] = APIConnect(item.get(\"apikey\"), \"\", \"\", False, \"\", False)\n",
    "\n",
    "       "
   ]
  },
  {
   "cell_type": "code",
   "execution_count": 8,
   "id": "1754342b",
   "metadata": {},
   "outputs": [
    {
     "name": "stdout",
     "output_type": "stream",
     "text": [
      "Initializing Orders class\n"
     ]
    }
   ],
   "source": [
    "order = Orders(user_obj_dict)\n",
    "# order.place_order(order_details,api_connect)"
   ]
  },
  {
   "cell_type": "markdown",
   "id": "e8053af4",
   "metadata": {},
   "source": [
    "print(5 // 2)"
   ]
  },
  {
   "cell_type": "code",
   "execution_count": 10,
   "id": "ea11e457",
   "metadata": {},
   "outputs": [
    {
     "name": "stdout",
     "output_type": "stream",
     "text": [
      "Placing order: NIFTY25AUG25750CE - ActionEnum.BUY - Qty: None\n",
      "{\"config\": {}, \"error\": {\"actCd\": \"52\", \"errCd\": \"ETRD00036\", \"errMsg\": \"Invalid Source Token. Session Expired\"}, \"msgID\": \"0dc698d2-0528-40f6-bc1f-f709ad776f30\", \"srvTm\": 1756110275852}\n",
      "Expired session.\n",
      "Resp :  \n",
      "Traceback (most recent call last):\n",
      "  File \"c:\\Users\\shree\\OneDrive\\Desktop\\TrueData\\old_Files\\order_class.py\", line 50, in place_order\n",
      "    order_details['order_id'] = response['data']['oid']\n",
      "                                ~~~~~~~~^^^^^^^^\n",
      "TypeError: string indices must be integers, not 'str'\n",
      "\n",
      "Error placing order: string indices must be integers, not 'str'\n"
     ]
    }
   ],
   "source": [
    "res = order.place_order(order_details)"
   ]
  },
  {
   "cell_type": "code",
   "execution_count": null,
   "id": "04d7a93f",
   "metadata": {},
   "outputs": [],
   "source": [
    "cancel = order.cancel_order(250808000169462)"
   ]
  },
  {
   "cell_type": "code",
   "execution_count": null,
   "id": "4d6a15b3",
   "metadata": {
    "vscode": {
     "languageId": "javascript"
    }
   },
   "outputs": [],
   "source": [
    "x = 5 // 2"
   ]
  },
  {
   "cell_type": "code",
   "execution_count": null,
   "id": "e8b309b3",
   "metadata": {},
   "outputs": [],
   "source": [
    "import time\n",
    "\n",
    "print(int(time.time() * 1000))"
   ]
  },
  {
   "cell_type": "code",
   "execution_count": null,
   "id": "f8de69da",
   "metadata": {},
   "outputs": [
    {
     "name": "stdout",
     "output_type": "stream",
     "text": [
      "True\n",
      "75\n"
     ]
    }
   ],
   "source": [
    "x = 4\n",
    "y = 6\n",
    "import math\n",
    "isbigger = x>y if x==5 else y>x\n",
    "\n",
    "slices = 150\n",
    "print(isbigger)\n",
    "x = math.floor(375%150)\n",
    "\n",
    "if qty > sliceqty:\n",
    "    qty\n",
    "else:\n",
    "    remaining qty\n",
    "print(x)\n",
    "# if x > 1:\n",
    "#     print(150)\n",
    "# else:\n",
    "#     print(x)\n"
   ]
  }
 ],
 "metadata": {
  "kernelspec": {
   "display_name": "venv",
   "language": "python",
   "name": "python3"
  },
  "language_info": {
   "codemirror_mode": {
    "name": "ipython",
    "version": 3
   },
   "file_extension": ".py",
   "mimetype": "text/x-python",
   "name": "python",
   "nbconvert_exporter": "python",
   "pygments_lexer": "ipython3",
   "version": "3.11.9"
  }
 },
 "nbformat": 4,
 "nbformat_minor": 5
}
