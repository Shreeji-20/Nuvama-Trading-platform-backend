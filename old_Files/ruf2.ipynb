{
 "cells": [
  {
   "cell_type": "code",
   "execution_count": null,
   "id": "c5d62961",
   "metadata": {},
   "outputs": [],
   "source": [
    "from basic_functions import common_functions\n",
    "import time"
   ]
  },
  {
   "cell_type": "code",
   "execution_count": null,
   "id": "2562e583",
   "metadata": {},
   "outputs": [],
   "source": [
    "obj = common_functions()\n",
    "data = obj.refresh_strikes_and_options(symbol='SENSEX')\n",
    "# time.sleep(10)  # Optional: wait before refreshing NIFTY options\n",
    "# data2 = obj.refresh_strikes_and_options(symbol='NIFTY')"
   ]
  },
  {
   "cell_type": "code",
   "execution_count": null,
   "id": "faea0ef0",
   "metadata": {},
   "outputs": [],
   "source": [
    "import redis\n",
    "import json\n",
    "r = redis.Redis(host='localhost', port=6379, db=0)"
   ]
  },
  {
   "cell_type": "code",
   "execution_count": null,
   "id": "63813873",
   "metadata": {},
   "outputs": [],
   "source": [
    "strikes_nifty = json.loads(r.get(\"strikes:NIFTY\"))\n",
    "strikes_sensex = json.loads(r.get(\"strikes:SENSEX\"))"
   ]
  },
  {
   "cell_type": "code",
   "execution_count": null,
   "id": "f8e23869",
   "metadata": {},
   "outputs": [],
   "source": [
    "print(strikes_nifty)\n",
    "print(len(list(set(strikes_nifty + strikes_sensex))))"
   ]
  },
  {
   "cell_type": "code",
   "execution_count": null,
   "id": "c0bde6b8",
   "metadata": {},
   "outputs": [],
   "source": [
    "data = obj.refresh_strikes_and_options(symbol='SENSEX',expiry=1)"
   ]
  },
  {
   "cell_type": "code",
   "execution_count": null,
   "id": "5bcca3c3",
   "metadata": {},
   "outputs": [],
   "source": [
    "data = obj.refresh_strikes_and_options(symbol='NIFTY')"
   ]
  },
  {
   "cell_type": "code",
   "execution_count": null,
   "id": "00d3c75b",
   "metadata": {},
   "outputs": [],
   "source": [
    "r.flushdb()"
   ]
  },
  {
   "cell_type": "code",
   "execution_count": null,
   "id": "002973e5",
   "metadata": {},
   "outputs": [],
   "source": [
    "while True:\n",
    "    ce = json.loads(r.get(\"depth:SENSEX_80000.0_CE-0\").decode())\n",
    "    pe = json.loads(r.get(\"depth:SENSEX_80000.0_PE-0\").decode())\n",
    "    print(float(ce['response']['data']['bidValues'][0]['price']) + float(pe['response']['data']['bidValues'][0]['price']),end=  '\\r')"
   ]
  },
  {
   "cell_type": "code",
   "execution_count": null,
   "id": "0e1ab8fa",
   "metadata": {},
   "outputs": [],
   "source": [
    "ce = json.loads(r.get(\"depth:SENSEX_80000.0_CE-0\").decode())\n",
    "pe = json.loads(r.get(\"depth:SENSEX_80000.0_PE-0\").decode())"
   ]
  },
  {
   "cell_type": "code",
   "execution_count": null,
   "id": "3dc00acb",
   "metadata": {},
   "outputs": [],
   "source": [
    "print(ce)\n",
    "print(type(ce))"
   ]
  },
  {
   "cell_type": "code",
   "execution_count": null,
   "id": "bd99b4dc",
   "metadata": {},
   "outputs": [],
   "source": [
    "data2 = obj.refresh_strikes_and_options(symbol='NIFTY')"
   ]
  },
  {
   "cell_type": "code",
   "execution_count": 3,
   "id": "701d35ae",
   "metadata": {},
   "outputs": [],
   "source": [
    "from constants.exchange import ExchangeEnum\n",
    "from constants.order_type import OrderTypeEnum\n",
    "from constants.product_code import ProductCodeENum\n",
    "from constants.duration import DurationEnum\n",
    "from constants.action import ActionEnum\n",
    "from order_class import Orders\n",
    "order_details = {\n",
    "    \"Trading_Symbol\": \"NIFTY25AUG25750CE\",\n",
    "    \"Exchange\": ExchangeEnum.BFO,\n",
    "    \"Action\": ActionEnum.BUY,\n",
    "    \"Duration\": \"DAY\",\n",
    "    \"Order_Type\": OrderTypeEnum.LIMIT,\n",
    "    \"Quantity\": 75,\n",
    "    \"Streaming_Symbol\": \"72098_NFO\",\n",
    "    \"Limit_Price\": \"1.5\",\n",
    "    \"Disclosed_Quantity\": \"0\",\n",
    "    \"TriggerPrice\": \"0\",\n",
    "    \"Product_Code\": ProductCodeENum.NRML,\n",
    "    \"user_id\": \"70204607\",\n",
    "    \"remark\": \"Test Order from Python Script 5\"\n",
    "}"
   ]
  },
  {
   "cell_type": "code",
   "execution_count": 23,
   "id": "0d8265c4",
   "metadata": {},
   "outputs": [],
   "source": [
    "from APIConnect.APIConnect import APIConnect\n",
    "api_connect = APIConnect(\"A5GVZfbOH8bu3w\", \"\", \"\", False, \"\")"
   ]
  },
  {
   "cell_type": "code",
   "execution_count": 14,
   "id": "468f9ae2",
   "metadata": {},
   "outputs": [],
   "source": [
    "logout = api_connect.Logout()"
   ]
  },
  {
   "cell_type": "code",
   "execution_count": null,
   "id": "7ddb83c4",
   "metadata": {},
   "outputs": [],
   "source": [
    "from constants.segment_type import SegmentTypeEnum\n",
    "x = api_connect"
   ]
  },
  {
   "cell_type": "code",
   "execution_count": 29,
   "id": "35cd478f",
   "metadata": {},
   "outputs": [
    {
     "name": "stdout",
     "output_type": "stream",
     "text": [
      "{\"eq\": {\"appID\": \"4fe68b7536784e3407c3ecf19be7c4ad\", \"config\": {\"app\": 1, \"exp\": 1756080022448, \"info\": 4}, \"data\": {\"type\": \"holdingsRMSDao\", \"eqHv\": \"42277751.89\", \"rmsHdg\": [{\"asTyp\": \"EQUITY\", \"chgP\": \"0.16\", \"cncRmsHdg\": {\"td\": \"true\", \"hdgVl\": \"168747.39\", \"clUQty\": \"0\", \"hdgUQty\": \"0\", \"usdQty\": \"0\", \"t1HQty\": \"0\", \"clQty\": \"139\", \"qty\": \"139\", \"pdQty\": \"139\", \"pdCnt\": \"139.0\", \"totQty\": \"139\"}, \"cpName\": \" 7.60%  Tax  Free  Ncd \", \"dpName\": \"760PFCL35-N3\", \"exc\": \"NSE\", \"hairCut\": \"20.00\", \"isin\": \"INE134E07588\", \"ltSz\": \"1\", \"ltp\": \"1214.01\", \"sym\": \"19976_NSE\", \"tkSz\": \"0.01\", \"totalQty\": \"139\", \"totalVal\": \"168747.39\", \"trdSym\": \"INE134E07588\"}, {\"asTyp\": \"EQUITY\", \"chgP\": \"2.29\", \"cncRmsHdg\": {\"td\": \"true\", \"hdgVl\": \"196250.00\", \"clUQty\": \"0\", \"hdgUQty\": \"0\", \"usdQty\": \"0\", \"t1HQty\": \"0\", \"clQty\": \"157\", \"qty\": \"157\", \"pdQty\": \"157\", \"pdCnt\": \"157.0\", \"totQty\": \"157\"}, \"cpName\": \" Tfb  7.62%  2035  Sr.  3b \", \"dpName\": \"762NTPC35F-ND\", \"exc\": \"NSE\", \"hairCut\": \"20.00\", \"isin\": \"INE733E07JW2\", \"ltSz\": \"1\", \"ltp\": \"1250\", \"sym\": \"10751_NSE\", \"tkSz\": \"0.01\", \"totalQty\": \"157\", \"totalVal\": \"196250.00\", \"trdSym\": \"INE733E07JW2\"}, {\"asTyp\": \"EQUITY\", \"chgP\": \"0.35\", \"cncRmsHdg\": {\"td\": \"true\", \"hdgVl\": \"1160000.00\", \"clUQty\": \"0\", \"hdgUQty\": \"0\", \"usdQty\": \"0\", \"t1HQty\": \"0\", \"clQty\": \"1000\", \"qty\": \"1000\", \"pdQty\": \"1000\", \"pdCnt\": \"1000.0\", \"totQty\": \"1000\"}, \"cpName\": \" Tax  Free   7.64%  Sr.  108a \", \"dpName\": \"764IRFC31-NO\", \"exc\": \"NSE\", \"hairCut\": \"20.00\", \"isin\": \"INE053F07900\", \"ltSz\": \"1\", \"ltp\": \"1160\", \"sym\": \"15168_NSE\", \"tkSz\": \"0.01\", \"totalQty\": \"1000\", \"totalVal\": \"1160000.00\", \"trdSym\": \"INE053F07900\"}, {\"asTyp\": \"EQUITY\", \"chgP\": \"0.00\", \"cncRmsHdg\": {\"td\": \"true\", \"hdgVl\": \"1121810.00\", \"clUQty\": \"0\", \"hdgUQty\": \"0\", \"usdQty\": \"0\", \"t1HQty\": \"0\", \"clQty\": \"1000\", \"qty\": \"1000\", \"pdQty\": \"1000\", \"pdCnt\": \"1000.0\", \"totQty\": \"1000\"}, \"cpName\": \" 7.64%  Tax  Free  Tri  Sriib \", \"dpName\": \"764NABAR31-N2\", \"exc\": \"NSE\", \"hairCut\": \"20.00\", \"isin\": \"INE261F07032\", \"ltSz\": \"1\", \"ltp\": \"1121.81\", \"sym\": \"20034_NSE\", \"tkSz\": \"0.01\", \"totalQty\": \"1000\", \"totalVal\": \"1121810.00\", \"trdSym\": \"INE261F07032\"}, {\"asTyp\": \"EQUITY\", \"chgP\": \"0.07\", \"cncRmsHdg\": {\"td\": \"true\", \"hdgVl\": \"1119000.00\", \"clUQty\": \"0\", \"hdgUQty\": \"0\", \"usdQty\": \"0\", \"t1HQty\": \"0\", \"clQty\": \"1000\", \"qty\": \"1000\", \"pdQty\": \"1000\", \"pdCnt\": \"1000.0\", \"totQty\": \"1000\"}, \"cpName\": \" Tax  Free7.60%  Sr.iib \", \"dpName\": \"76NHAI31-NA\", \"exc\": \"NSE\", \"hairCut\": \"20.00\", \"isin\": \"INE906B07EJ8\", \"ltSz\": \"1\", \"ltp\": \"1119\", \"sym\": \"12003_NSE\", \"tkSz\": \"0.01\", \"totalQty\": \"1000\", \"totalVal\": \"1119000.00\", \"trdSym\": \"INE906B07EJ8\"}, {\"asTyp\": \"EQUITY\", \"chgP\": \"0.00\", \"cncRmsHdg\": {\"td\": \"true\", \"hdgVl\": \"1284990.00\", \"clUQty\": \"0\", \"hdgUQty\": \"0\", \"usdQty\": \"0\", \"t1HQty\": \"0\", \"clQty\": \"1000\", \"qty\": \"1000\", \"pdQty\": \"1000\", \"pdCnt\": \"1000.0\", \"totQty\": \"1000\"}, \"cpName\": \" 8.91%s-r-ncd  Series  3b \", \"dpName\": \"891NTPC33-N6\", \"exc\": \"NSE\", \"hairCut\": \"20.00\", \"isin\": \"INE733E07JJ9\", \"ltSz\": \"1\", \"ltp\": \"1284.99\", \"sym\": \"31768_NSE\", \"tkSz\": \"0.01\", \"totalQty\": \"1000\", \"totalVal\": \"1284990.00\", \"trdSym\": \"INE733E07JJ9\"}, {\"asTyp\": \"EQUITY\", \"chgP\": \"-1.22\", \"cncRmsHdg\": {\"td\": \"true\", \"hdgVl\": \"1290000.00\", \"clUQty\": \"0\", \"hdgUQty\": \"0\", \"usdQty\": \"0\", \"t1HQty\": \"0\", \"clQty\": \"1000\", \"qty\": \"1000\", \"pdQty\": \"1000\", \"pdCnt\": \"1000.0\", \"totQty\": \"1000\"}, \"cpName\": \" 9.01%  Tax  Freetrii  Sr3b \", \"dpName\": \"901HUDCO34-NE\", \"exc\": \"NSE\", \"hairCut\": \"20.00\", \"isin\": \"INE031A07AB2\", \"ltSz\": \"1\", \"ltp\": \"1290\", \"sym\": \"19970_NSE\", \"tkSz\": \"0.01\", \"totalQty\": \"1000\", \"totalVal\": \"1290000.00\", \"trdSym\": \"INE031A07AB2\"}, {\"asTyp\": \"EQUITY\", \"chgP\": \"0.18\", \"cncRmsHdg\": {\"td\": \"true\", \"hdgVl\": \"970099.50\", \"clUQty\": \"0\", \"hdgUQty\": \"0\", \"usdQty\": \"0\", \"t1HQty\": \"0\", \"clQty\": \"150\", \"qty\": \"150\", \"pdQty\": \"150\", \"pdCnt\": \"150.0\", \"totQty\": \"150\"}, \"cpName\": \" Bond  9.01%pa  Tf  Tr-i  S  3b \", \"dpName\": \"901NHB34-N6\", \"exc\": \"NSE\", \"hairCut\": \"20.00\", \"isin\": \"INE557F07132\", \"ltSz\": \"1\", \"ltp\": \"6467.33\", \"sym\": \"31970_NSE\", \"tkSz\": \"0.01\", \"totalQty\": \"150\", \"totalVal\": \"970099.50\", \"trdSym\": \"INE557F07132\"}, {\"asTyp\": \"EQUITY\", \"chgP\": \"4.67\", \"cncRmsHdg\": {\"td\": \"true\", \"hdgVl\": \"167203.00\", \"clUQty\": \"0\", \"hdgUQty\": \"0\", \"usdQty\": \"0\", \"t1HQty\": \"0\", \"clQty\": \"22595\", \"qty\": \"22595\", \"pdQty\": \"22595\", \"pdCnt\": \"22595.0\", \"totQty\": \"22595\"}, \"cpName\": \" Vodafone  Idea  Limited \", \"dpName\": \"IDEA\", \"exc\": \"NSE\", \"hairCut\": \"100.00\", \"isin\": \"INE669E01016\", \"ltSz\": \"1\", \"ltp\": \"7.4\", \"sym\": \"14366_NSE\", \"tkSz\": \"0.01\", \"totalQty\": \"22595\", \"totalVal\": \"167203.00\", \"trdSym\": \"INE669E01016\"}, {\"asTyp\": \"EQUITY\", \"chgP\": \"0.00\", \"cncRmsHdg\": {\"td\": \"true\", \"hdgVl\": \"34799652.00\", \"clUQty\": \"0\", \"hdgUQty\": \"0\", \"usdQty\": \"0\", \"t1HQty\": \"0\", \"clQty\": \"34800\", \"qty\": \"34800\", \"pdQty\": \"34800\", \"pdCnt\": \"34800.0\", \"totQty\": \"34800\"}, \"cpName\": \" Icicipramc  -  Iciciliq \", \"dpName\": \"LIQUIDIETF\", \"exc\": \"NSE\", \"hairCut\": \"10.00\", \"isin\": \"INF109KC1KT9\", \"ltSz\": \"1\", \"ltp\": \"999.99\", \"sym\": \"4838_NSE\", \"tkSz\": \"0.01\", \"totalQty\": \"34800\", \"totalVal\": \"34799652.00\", \"trdSym\": \"INF109KC1KT9\"}]}, \"msgID\": \"d18d2c6c-ff30-4e93-bbea-65bf0ed55e23\", \"srvTm\": 1756117228325}, \"comm\": \"\"}\n"
     ]
    }
   ],
   "source": [
    "print(x)"
   ]
  },
  {
   "cell_type": "code",
   "execution_count": 22,
   "id": "b588d4fb",
   "metadata": {},
   "outputs": [
    {
     "name": "stdout",
     "output_type": "stream",
     "text": [
      "{\"appID\": \"960993191487819c37ffd0ae9f312b43\", \"config\": {}, \"error\": {\"actCd\": \"0\", \"errCd\": \"0\", \"errMsg\": \"Too Many Requests.\"}, \"msgID\": \"70a67817-f71a-454d-8c17-f811909660f4\", \"srvTm\": 1756110860547}\n"
     ]
    }
   ],
   "source": [
    "from constants.exchange import ExchangeEnum\n",
    "from constants.order_type import OrderTypeEnum\n",
    "from constants.product_code import ProductCodeENum\n",
    "from constants.duration import DurationEnum\n",
    "from constants.action import ActionEnum\n",
    "\n",
    "response = api_connect.PlaceTrade(Trading_Symbol = \"NIFTY25AUG25750CE\", Exchange = ExchangeEnum.NFO, Action = ActionEnum.BUY, Duration = DurationEnum.DAY, Order_Type = OrderTypeEnum.MARKET, Quantity = 75, Streaming_Symbol = \"72098_NFO\", Limit_Price = \"0\", Disclosed_Quantity=\"0\", TriggerPrice=\"0\", ProductCode = ProductCodeENum.NRML)\n",
    "print(response)"
   ]
  },
  {
   "cell_type": "code",
   "execution_count": 7,
   "id": "9900e247",
   "metadata": {},
   "outputs": [
    {
     "name": "stdout",
     "output_type": "stream",
     "text": [
      "reqid:70249886\n",
      "API object exists for user iBe07GpBTEbbhg\n",
      "reqid:70204607\n",
      "API object exists for user 2BlEHXuabO8xRw\n"
     ]
    }
   ],
   "source": [
    "import redis\n",
    "import json\n",
    "r = redis.Redis(host=\"localhost\", port=6379, db=0)\n",
    "users = r.keys(\"user:*\")\n",
    "data = [json.loads(r.get(user)) for user in users]\n",
    "user_obj_dict = {}\n",
    "        # print(f\"reqid:{item.get('user_id')}\")\n",
    "for item in data:\n",
    "    print(f\"reqid:{item.get('userid')}\")\n",
    "    if r.exists(f\"reqid:{item.get('userid')}\"):\n",
    "        print(f\"API object exists for user {item.get('apikey')}\")\n",
    "        user_obj_dict[item.get(\"userid\")] = APIConnect(item.get(\"apikey\"), \"\", \"\", False, \"\", False)\n",
    "\n",
    "       "
   ]
  },
  {
   "cell_type": "code",
   "execution_count": 8,
   "id": "1754342b",
   "metadata": {},
   "outputs": [
    {
     "name": "stdout",
     "output_type": "stream",
     "text": [
      "Initializing Orders class\n"
     ]
    }
   ],
   "source": [
    "order = Orders(user_obj_dict)\n",
    "# order.place_order(order_details,api_connect)"
   ]
  },
  {
   "cell_type": "markdown",
   "id": "e8053af4",
   "metadata": {},
   "source": []
  },
  {
   "cell_type": "code",
   "execution_count": 10,
   "id": "ea11e457",
   "metadata": {},
   "outputs": [
    {
     "name": "stdout",
     "output_type": "stream",
     "text": [
      "Placing order: NIFTY25AUG25750CE - ActionEnum.BUY - Qty: None\n",
      "{\"config\": {}, \"error\": {\"actCd\": \"52\", \"errCd\": \"ETRD00036\", \"errMsg\": \"Invalid Source Token. Session Expired\"}, \"msgID\": \"0dc698d2-0528-40f6-bc1f-f709ad776f30\", \"srvTm\": 1756110275852}\n",
      "Expired session.\n",
      "Resp :  \n",
      "Traceback (most recent call last):\n",
      "  File \"c:\\Users\\shree\\OneDrive\\Desktop\\TrueData\\old_Files\\order_class.py\", line 50, in place_order\n",
      "    order_details['order_id'] = response['data']['oid']\n",
      "                                ~~~~~~~~^^^^^^^^\n",
      "TypeError: string indices must be integers, not 'str'\n",
      "\n",
      "Error placing order: string indices must be integers, not 'str'\n"
     ]
    }
   ],
   "source": [
    "res = order.place_order(order_details)"
   ]
  },
  {
   "cell_type": "code",
   "execution_count": null,
   "id": "04d7a93f",
   "metadata": {},
   "outputs": [],
   "source": [
    "cancel = order.cancel_order(250808000169462)"
   ]
  },
  {
   "cell_type": "code",
   "execution_count": null,
   "id": "e8b309b3",
   "metadata": {},
   "outputs": [],
   "source": [
    "import time\n",
    "\n",
    "print(int(time.time() * 1000))"
   ]
  },
  {
   "cell_type": "code",
   "execution_count": null,
   "id": "f8de69da",
   "metadata": {},
   "outputs": [
    {
     "name": "stdout",
     "output_type": "stream",
     "text": [
      "True\n",
      "75\n"
     ]
    }
   ],
   "source": [
    "x = 4\n",
    "y = 6\n",
    "import math\n",
    "isbigger = x>y if x==5 else y>x\n",
    "\n",
    "slices = 150\n",
    "print(isbigger)\n",
    "x = math.floor(375%150)\n",
    "\n",
    "if qty > sliceqty:\n",
    "    qty\n",
    "else:\n",
    "    remaining qty\n",
    "print(x)\n",
    "# if x > 1:\n",
    "#     print(150)\n",
    "# else:\n",
    "#     print(x)\n"
   ]
  }
 ],
 "metadata": {
  "kernelspec": {
   "display_name": "venv",
   "language": "python",
   "name": "python3"
  },
  "language_info": {
   "codemirror_mode": {
    "name": "ipython",
    "version": 3
   },
   "file_extension": ".py",
   "mimetype": "text/x-python",
   "name": "python",
   "nbconvert_exporter": "python",
   "pygments_lexer": "ipython3",
   "version": "3.11.9"
  }
 },
 "nbformat": 4,
 "nbformat_minor": 5
}
