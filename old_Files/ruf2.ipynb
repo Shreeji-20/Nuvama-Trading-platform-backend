{
 "cells": [
  {
   "cell_type": "code",
   "execution_count": null,
   "id": "c5d62961",
   "metadata": {},
   "outputs": [],
   "source": [
    "from basic_functions import common_functions\n",
    "import time"
   ]
  },
  {
   "cell_type": "code",
   "execution_count": null,
   "id": "2562e583",
   "metadata": {},
   "outputs": [],
   "source": [
    "obj = common_functions()\n",
    "data = obj.refresh_strikes_and_options(symbol='SENSEX')\n",
    "# time.sleep(10)  # Optional: wait before refreshing NIFTY options\n",
    "# data2 = obj.refresh_strikes_and_options(symbol='NIFTY')"
   ]
  },
  {
   "cell_type": "code",
   "execution_count": null,
   "id": "faea0ef0",
   "metadata": {},
   "outputs": [],
   "source": [
    "import redis\n",
    "import json\n",
    "r = redis.Redis(host='localhost', port=6379, db=0)"
   ]
  },
  {
   "cell_type": "code",
   "execution_count": null,
   "id": "63813873",
   "metadata": {},
   "outputs": [],
   "source": [
    "strikes_nifty = json.loads(r.get(\"strikes:NIFTY\"))\n",
    "strikes_sensex = json.loads(r.get(\"strikes:SENSEX\"))"
   ]
  },
  {
   "cell_type": "code",
   "execution_count": null,
   "id": "f8e23869",
   "metadata": {},
   "outputs": [],
   "source": [
    "print(strikes_nifty)\n",
    "print(len(list(set(strikes_nifty + strikes_sensex))))"
   ]
  },
  {
   "cell_type": "code",
   "execution_count": null,
   "id": "c0bde6b8",
   "metadata": {},
   "outputs": [],
   "source": [
    "data = obj.refresh_strikes_and_options(symbol='SENSEX',expiry=1)"
   ]
  },
  {
   "cell_type": "code",
   "execution_count": null,
   "id": "5bcca3c3",
   "metadata": {},
   "outputs": [],
   "source": [
    "data = obj.refresh_strikes_and_options(symbol='NIFTY')"
   ]
  },
  {
   "cell_type": "code",
   "execution_count": null,
   "id": "00d3c75b",
   "metadata": {},
   "outputs": [],
   "source": [
    "r.flushdb()"
   ]
  },
  {
   "cell_type": "code",
   "execution_count": null,
   "id": "002973e5",
   "metadata": {},
   "outputs": [],
   "source": [
    "while True:\n",
    "    ce = json.loads(r.get(\"depth:SENSEX_80000.0_CE-0\").decode())\n",
    "    pe = json.loads(r.get(\"depth:SENSEX_80000.0_PE-0\").decode())\n",
    "    print(float(ce['response']['data']['bidValues'][0]['price']) + float(pe['response']['data']['bidValues'][0]['price']),end=  '\\r')"
   ]
  },
  {
   "cell_type": "code",
   "execution_count": null,
   "id": "0e1ab8fa",
   "metadata": {},
   "outputs": [],
   "source": [
    "ce = json.loads(r.get(\"depth:SENSEX_80000.0_CE-0\").decode())\n",
    "pe = json.loads(r.get(\"depth:SENSEX_80000.0_PE-0\").decode())"
   ]
  },
  {
   "cell_type": "code",
   "execution_count": null,
   "id": "3dc00acb",
   "metadata": {},
   "outputs": [],
   "source": [
    "print(ce)\n",
    "print(type(ce))"
   ]
  },
  {
   "cell_type": "code",
   "execution_count": null,
   "id": "bd99b4dc",
   "metadata": {},
   "outputs": [],
   "source": [
    "data2 = obj.refresh_strikes_and_options(symbol='NIFTY')"
   ]
  },
  {
   "cell_type": "code",
   "execution_count": 1,
   "id": "701d35ae",
   "metadata": {},
   "outputs": [],
   "source": [
    "from constants.exchange import ExchangeEnum\n",
    "from constants.order_type import OrderTypeEnum\n",
    "from constants.product_code import ProductCodeENum\n",
    "from constants.duration import DurationEnum\n",
    "from constants.action import ActionEnum\n",
    "from order_class import Orders\n",
    "order_details = {\n",
    "    \"Trading_Symbol\": \"NIFTY2592325650CE\",\n",
    "    \"Exchange\": ExchangeEnum.NFO,\n",
    "    \"Action\": ActionEnum.BUY,\n",
    "    \"Duration\": DurationEnum.IOC,\n",
    "    \"Order_Type\": OrderTypeEnum.LIMIT,\n",
    "    \"Quantity\": 75,\n",
    "    \"Streaming_Symbol\": \"47787_NFO\",\n",
    "    \"Limit_Price\": \"18\",\n",
    "    \"Disclosed_Quantity\": \"0\",\n",
    "    \"TriggerPrice\": \"0\",\n",
    "    \"Product_Code\": ProductCodeENum.NRML,\n",
    "    \"user_id\": \"70204607\",\n",
    "    \"remark\": \"Test Order from Python Script 5\"\n",
    "}"
   ]
  },
  {
   "cell_type": "code",
   "execution_count": 2,
   "id": "0d8265c4",
   "metadata": {},
   "outputs": [],
   "source": [
    "from APIConnect.APIConnect import APIConnect\n",
    "api_connect = APIConnect(\"eYbfnWSPPT1-2g\", \"\", \"\", False, \"\")"
   ]
  },
  {
   "cell_type": "code",
   "execution_count": null,
   "id": "468f9ae2",
   "metadata": {},
   "outputs": [],
   "source": [
    "logout = api_connect.PlaceBasketTrade()"
   ]
  },
  {
   "cell_type": "code",
   "execution_count": null,
   "id": "7ddb83c4",
   "metadata": {},
   "outputs": [],
   "source": [
    "from constants.segment_type import SegmentTypeEnum\n",
    "x = api_connect"
   ]
  },
  {
   "cell_type": "code",
   "execution_count": 3,
   "id": "35cd478f",
   "metadata": {},
   "outputs": [
    {
     "name": "stdout",
     "output_type": "stream",
     "text": [
      "nt\n"
     ]
    },
    {
     "ename": "NameError",
     "evalue": "name '__file__' is not defined",
     "output_type": "error",
     "traceback": [
      "\u001b[31m---------------------------------------------------------------------------\u001b[39m",
      "\u001b[31mNameError\u001b[39m                                 Traceback (most recent call last)",
      "\u001b[36mCell\u001b[39m\u001b[36m \u001b[39m\u001b[32mIn[3]\u001b[39m\u001b[32m, line 4\u001b[39m\n\u001b[32m      2\u001b[39m \u001b[38;5;66;03m# backend/routers/users.py\u001b[39;00m\n\u001b[32m      3\u001b[39m \u001b[38;5;28mprint\u001b[39m(os.name)\n\u001b[32m----> \u001b[39m\u001b[32m4\u001b[39m BASE_DIR = os.path.dirname(os.path.abspath(\u001b[34;43m__file__\u001b[39;49m))  \u001b[38;5;66;03m# directory of current script\u001b[39;00m\n\u001b[32m      5\u001b[39m script_path = os.path.join(BASE_DIR, \u001b[33m\"\u001b[39m\u001b[33mwebsocket\u001b[39m\u001b[33m\"\u001b[39m, \u001b[33m\"\u001b[39m\u001b[33morder_streaming.py\u001b[39m\u001b[33m\"\u001b[39m)\n\u001b[32m      7\u001b[39m \u001b[38;5;28mprint\u001b[39m(script_path)\n",
      "\u001b[31mNameError\u001b[39m: name '__file__' is not defined"
     ]
    }
   ],
   "source": [
    "import os\n",
    "# backend/routers/users.py\n",
    "print(os.name)\n",
    "BASE_DIR = os.path.dirname(os.path.abspath(__file__))  # directory of current script\n",
    "script_path = os.path.join(BASE_DIR, \"websocket\", \"order_streaming.py\")\n",
    "\n",
    "print(script_path)"
   ]
  },
  {
   "cell_type": "code",
   "execution_count": 4,
   "id": "b588d4fb",
   "metadata": {},
   "outputs": [
    {
     "name": "stdout",
     "output_type": "stream",
     "text": [
      "{\"appID\": \"960993191487819c37ffd0ae9f312b43\", \"config\": {\"app\": 1, \"exp\": 1758067225889, \"info\": 4}, \"data\": {\"type\": \"tradeResponseDto\", \"msg\": \"Your order has been placed succesfully!.\", \"oid\": \"250917000116738\"}, \"msgID\": \"931538a8-472f-42bc-bcad-ff6221728255\", \"srvTm\": 1758090387967}\n"
     ]
    }
   ],
   "source": [
    "from constants.exchange import ExchangeEnum\n",
    "from constants.order_type import OrderTypeEnum\n",
    "from constants.product_code import ProductCodeENum\n",
    "from constants.duration import DurationEnum\n",
    "from constants.action import ActionEnum\n",
    "\n",
    "response = api_connect.PlaceTrade(Trading_Symbol = \"NIFTY2592325650CE\", Exchange = ExchangeEnum.NFO, Action = ActionEnum.BUY, Duration = DurationEnum.IOC, Order_Type = OrderTypeEnum.LIMIT, Quantity = 75, Streaming_Symbol = \"47787_NFO\", Limit_Price = \"18\", Disclosed_Quantity=\"0\", TriggerPrice=\"0\", ProductCode = ProductCodeENum.NRML)\n",
    "print(response)"
   ]
  },
  {
   "cell_type": "code",
   "execution_count": null,
   "id": "9900e247",
   "metadata": {},
   "outputs": [],
   "source": [
    "import redis\n",
    "import json\n",
    "r = redis.Redis(host=\"localhost\", port=6379, db=0)\n",
    "users = r.keys(\"user:*\")\n",
    "data = [json.loads(r.get(user)) for user in users]\n",
    "user_obj_dict = {}\n",
    "        # print(f\"reqid:{item.get('user_id')}\")\n",
    "for item in data:\n",
    "    print(f\"reqid:{item.get('userid')}\")\n",
    "    if r.exists(f\"reqid:{item.get('userid')}\"):\n",
    "        print(f\"API object exists for user {item.get('apikey')}\")\n",
    "        user_obj_dict[item.get(\"userid\")] = APIConnect(item.get(\"apikey\"), \"\", \"\", False, \"\", False)\n",
    "\n",
    "       "
   ]
  },
  {
   "cell_type": "code",
   "execution_count": null,
   "id": "1754342b",
   "metadata": {},
   "outputs": [],
   "source": [
    "order = Orders(user_obj_dict)\n",
    "# order.place_order(order_details,api_connect)"
   ]
  },
  {
   "cell_type": "markdown",
   "id": "e8053af4",
   "metadata": {},
   "source": [
    "print(5 // 2)"
   ]
  },
  {
   "cell_type": "code",
   "execution_count": null,
   "id": "ea11e457",
   "metadata": {},
   "outputs": [],
   "source": [
    "res = order.place_order(order_details)"
   ]
  },
  {
   "cell_type": "code",
   "execution_count": null,
   "id": "04d7a93f",
   "metadata": {},
   "outputs": [],
   "source": [
    "cancel = order.cancel_order(250808000169462)"
   ]
  },
  {
   "cell_type": "code",
   "execution_count": null,
   "id": "4d6a15b3",
   "metadata": {
    "vscode": {
     "languageId": "javascript"
    }
   },
   "outputs": [],
   "source": [
    "x = 5 // 2"
   ]
  },
  {
   "cell_type": "code",
   "execution_count": null,
   "id": "e8b309b3",
   "metadata": {},
   "outputs": [],
   "source": [
    "import time\n",
    "\n",
    "print(int(time.time() * 1000))"
   ]
  },
  {
   "cell_type": "code",
   "execution_count": null,
   "id": "f8de69da",
   "metadata": {},
   "outputs": [],
   "source": [
    "x = 4\n",
    "y = 6\n",
    "import math\n",
    "isbigger = x>y if x==5 else y>x\n",
    "\n",
    "slices = 150\n",
    "print(isbigger)\n",
    "x = math.floor(375%150)\n",
    "\n",
    "if qty > sliceqty:\n",
    "    qty\n",
    "else:\n",
    "    remaining qty\n",
    "print(x)\n",
    "# if x > 1:\n",
    "#     print(150)\n",
    "# else:\n",
    "#     print(x)\n"
   ]
  }
 ],
 "metadata": {
  "kernelspec": {
   "display_name": "venv",
   "language": "python",
   "name": "python3"
  },
  "language_info": {
   "codemirror_mode": {
    "name": "ipython",
    "version": 3
   },
   "file_extension": ".py",
   "mimetype": "text/x-python",
   "name": "python",
   "nbconvert_exporter": "python",
   "pygments_lexer": "ipython3",
   "version": "3.12.3"
  }
 },
 "nbformat": 4,
 "nbformat_minor": 5
}
