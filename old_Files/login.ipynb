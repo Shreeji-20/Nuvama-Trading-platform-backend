{
 "cells": [
  {
   "cell_type": "code",
   "execution_count": null,
   "id": "d7786219",
   "metadata": {},
   "outputs": [],
   "source": [
    "from APIConnect.APIConnect import APIConnect\n",
    "import traceback\n",
    "try:\n",
    "    api_connect = APIConnect(\"iBe07GpBTEbbhg\", \"PhIf&g9m*0C7sQfm\", \"336465fabd13a8f2\", False, \"\")\n",
    "except Exception as e:\n",
    "    print(e)\n",
    "    # print(\"Error connecting to API: \", traceback.format_exc())\n",
    "    api_connect = None\n",
    "print(\"API conn : \",api_connect)\n",
    "# quotes_streamer = api_connect.initReducedQuotesStreaming()"
   ]
  },
  {
   "cell_type": "code",
   "execution_count": 1,
   "id": "6a52965e",
   "metadata": {},
   "outputs": [
    {
     "name": "stdout",
     "output_type": "stream",
     "text": [
      "Error\n"
     ]
    }
   ],
   "source": [
    "e = \"Hello\"\n",
    "if e!=True:\n",
    "    print(\"Error\")"
   ]
  },
  {
   "cell_type": "code",
   "execution_count": null,
   "id": "2b7b35e5",
   "metadata": {},
   "outputs": [],
   "source": [
    "from objects_dict import login_objects\n",
    "login_objects['nuvama'] = \"Hello\""
   ]
  },
  {
   "cell_type": "code",
   "execution_count": null,
   "id": "b63a6b1d",
   "metadata": {},
   "outputs": [],
   "source": [
    "import redis\n",
    "import json\n",
    "import orjson\n",
    "from APIConnect.APIConnect import APIConnect\n",
    "class CentralSocketData:\n",
    "    def __init__(self):\n",
    "        self.api_connect = APIConnect(\"iBe07GpBTEbbhg\", \"PhIf&g9m*0C7sQfm\", \"323135cde0f8e78a\", True, \"\")\n",
    "        print(json.dumps(self.api_connect.GetLoginData(), indent=4))\n",
    "        self.quotes_streamer = self.api_connect.initReducedQuotesStreaming()\n",
    "        self.r = redis.Redis(host='localhost', port=6379, db=0, decode_responses=True)\n",
    "        self.reduced_quotes = ['-29','-101']\n",
    "        \n",
    "    def ReducedQuotesFeedCallback(self,response):\n",
    "        \n",
    "        response = orjson.loads(response.encode())\n",
    "        if str(response['response']['data']['sym']) == \"-29\":\n",
    "            symbol = \"NIFTY\"\n",
    "        elif str(response['response']['data']['sym']) == \"-101\":\n",
    "            symbol = \"SENSEX\"\n",
    "        self.r.set(f\"reduced_quotes:{symbol}\", orjson.dumps(response).decode())\n",
    "    \n",
    "    def quotes_streamer_start(self):\n",
    "        self.quotes_streamer.subscribeReducedQuotesFeed(self.reduced_quotes,  self.ReducedQuotesFeedCallback)\n",
    "    def quotes_streamer_stop(self):\n",
    "        self.quotes_streamer.unsubscribeReducedQuotesFeed()\n",
    "\n"
   ]
  },
  {
   "cell_type": "code",
   "execution_count": null,
   "id": "d9c06976",
   "metadata": {},
   "outputs": [],
   "source": [
    "socket1 = CentralSocketData()"
   ]
  },
  {
   "cell_type": "code",
   "execution_count": null,
   "id": "23084eb6",
   "metadata": {},
   "outputs": [],
   "source": [
    "socket1.quotes_streamer_start()\n",
    "while True:\n",
    "    try:\n",
    "        # Simulate some processing\n",
    "        pass\n",
    "    except KeyboardInterrupt:\n",
    "        socket1.quotes_streamer.unsubscribeReducedQuotesFeed()\n",
    "        # socket.quotes_streamer.unsubscribeReducedQuotesFeed()\n",
    "        print(\"Quotes streaming stopped.\")\n",
    "        break\n",
    "    except Exception as e:\n",
    "        print(f\"An error occurred: {str(e)}\")\n",
    "        socket1.quotes_streamer.unsubscribeReducedQuotesFeed()\n",
    "        # socket.quotes_streamer.unsubscribeReducedQuotesFeed()\n",
    "        break"
   ]
  },
  {
   "cell_type": "code",
   "execution_count": null,
   "id": "0834986b",
   "metadata": {},
   "outputs": [],
   "source": [
    "socket1.quotes_streamer_stop()"
   ]
  },
  {
   "cell_type": "code",
   "execution_count": null,
   "id": "d80ac1de",
   "metadata": {},
   "outputs": [],
   "source": [
    "from types import SimpleNamespace\n",
    "from login_data import login_data_master\n",
    "def dict_to_namespace(d):\n",
    "    def convert(obj):\n",
    "        if isinstance(obj, dict):\n",
    "            return SimpleNamespace(**{k: convert(v) for k, v in obj.items()})\n",
    "        elif isinstance(obj, list):\n",
    "            return [convert(i) for i in obj]\n",
    "        return obj\n",
    "    return convert(d)\n",
    "login = dict_to_namespace(login_data_master)\n",
    "\n",
    "print(login.nuvama.id_70249886.api_key)  # Example to access the API key\n",
    "\n",
    "# for item in login_data.:\n",
    "    "
   ]
  },
  {
   "cell_type": "code",
   "execution_count": null,
   "id": "59c3bf1c",
   "metadata": {},
   "outputs": [],
   "source": [
    "nfo_list = [\n",
    "    \"48947_NFO\", \"44514_NFO\", \"48971_NFO\", \"72038_NFO\", \"44462_NFO\", \"47271_NFO\",\n",
    "    \"58786_NFO\", \"44538_NFO\", \"72040_NFO\", \"60491_NFO\", \"60465_NFO\", \"71395_NFO\",\n",
    "    \"71958_NFO\", \"39860_NFO\", \"60467_NFO\", \"58784_NFO\", \"60906_NFO\", \"39862_NFO\",\n",
    "    \"71956_NFO\", \"86153_NFO\", \"60443_NFO\", \"48945_NFO\", \"47181_NFO\", \"60489_NFO\",\n",
    "    \"60487_NFO\", \"48967_NFO\", \"71562_NFO\", \"72036_NFO\", \"39886_NFO\", \"60441_NFO\",\n",
    "    \"47178_NFO\", \"47248_NFO\", \"44518_NFO\", \"48919_NFO\", \"39841_NFO\", \"39864_NFO\",\n",
    "    \"71954_NFO\", \"47205_NFO\", \"39831_NFO\", \"39878_NFO\", \"58907_NFO\", \"48965_NFO\",\n",
    "    \"64694_NFO\", \"44508_NFO\", \"58931_NFO\", \"71952_NFO\", \"48941_NFO\", \"39854_NFO\",\n",
    "    \"71976_NFO\", \"60485_NFO\", \"58866_NFO\", \"58792_NFO\", \"47254_NFO\", \"39856_NFO\",\n",
    "    \"44510_NFO\", \"58868_NFO\", \"71974_NFO\", \"60483_NFO\", \"47252_NFO\", \"44468_NFO\",\n",
    "    \"58909_NFO\", \"60461_NFO\", \"48939_NFO\", \"44492_NFO\", \"39790_NFO\", \"47175_NFO\",\n",
    "    \"60457_NFO\", \"71948_NFO\", \"58794_NFO\", \"47150_NFO\", \"48915_NFO\", \"47256_NFO\",\n",
    "    \"44464_NFO\", \"47207_NFO\", \"47231_NFO\", \"58911_NFO\", \"44512_NFO\", \"71950_NFO\",\n",
    "    \"47209_NFO\", \"44536_NFO\", \"47148_NFO\", \"48937_NFO\", \"44490_NFO\", \"39858_NFO\",\n",
    "    \"71972_NFO\", \"60481_NFO\", \"48959_NFO\", \"58897_NFO\", \"48935_NFO\", \"58925_NFO\",\n",
    "    \"39872_NFO\", \"71970_NFO\", \"47283_NFO\", \"67784_NFO\", \"44496_NFO\", \"60453_NFO\",\n",
    "    \"39874_NFO\", \"60455_NFO\", \"71946_NFO\", \"48957_NFO\", \"44504_NFO\", \"71968_NFO\",\n",
    "    \"44498_NFO\", \"47212_NFO\", \"71992_NFO\", \"48933_NFO\", \"58927_NFO\", \"44528_NFO\",\n",
    "    \"60427_NFO\", \"39804_NFO\", \"39852_NFO\", \"71966_NFO\", \"71990_NFO\", \"60451_NFO\",\n",
    "    \"58822_NFO\", \"44470_NFO\", \"71503_NFO\", \"58895_NFO\", \"48955_NFO\", \"44506_NFO\",\n",
    "    \"44530_NFO\", \"71988_NFO\", \"47166_NFO\", \"44472_NFO\", \"60474_NFO\", \"58929_NFO\",\n",
    "    \"39876_NFO\", \"48929_NFO\", \"58780_NFO\", \"39866_NFO\", \"48953_NFO\", \"47216_NFO\",\n",
    "    \"71964_NFO\", \"58921_NFO\", \"71962_NFO\", \"62926_NFO\", \"48927_NFO\", \"44522_NFO\",\n",
    "    \"47164_NFO\", \"48951_NFO\", \"60402_NFO\", \"39822_NFO\", \"60493_NFO\", \"44500_NFO\",\n",
    "    \"58923_NFO\", \"39845_NFO\", \"48973_NFO\", \"61772_NFO\", \"48949_NFO\", \"39868_NFO\",\n",
    "    \"53626_NFO\", \"47290_NFO\", \"48925_NFO\", \"58901_NFO\", \"60398_NFO\", \"47221_NFO\",\n",
    "    \"89632_NFO\", \"58899_NFO\", \"71960_NFO\", \"58782_NFO\", \"60469_NFO\", \"71474_NFO\",\n",
    "    \"47161_NFO\", \"39870_NFO\", \"39798_NFO\"\n",
    "]\n",
    "print(len(nfo_list))"
   ]
  },
  {
   "cell_type": "code",
   "execution_count": null,
   "id": "a3733171",
   "metadata": {},
   "outputs": [],
   "source": [
    "counter = 0\n",
    "def callBack(response):\n",
    "    global counter\n",
    "    # counter += 1\n",
    "    print(response)\n",
    "import time\n",
    "from APIConnect.APIConnect import APIConnect\n",
    "from feed.depth_feed import DepthFeed\n",
    "symbols = [\n",
    "'39860_NFO',\n",
    "'39862_NFO',\n",
    "'39886_NFO',\n",
    "'39841_NFO',\n",
    "'39864_NFO',\n",
    "'39831_NFO',\n",
    "'39878_NFO',\n",
    "'39854_NFO',\n",
    "'39856_NFO',\n",
    "'39790_NFO',\n",
    "'39858_NFO',\n",
    "'39872_NFO',\n",
    "'39874_NFO',\n",
    "'39804_NFO',\n",
    "'39852_NFO',\n",
    "'39876_NFO',\n",
    "'39866_NFO',\n",
    "'39822_NFO',\n",
    "'39845_NFO',\n",
    "'39868_NFO',\n",
    "'39870_NFO',\n",
    "'39798_NFO']\n",
    "depth_streamer = api_connect.initDepthStreaming()\n",
    "try:\n",
    "    depth_streamer.subscribeDepthFeed(['-29'],  callBack)\n",
    "except KeyboardInterrupt:\n",
    "    print(\"Unsubscribing from depth feed...\")\n",
    "    depth_streamer.unsubscribeDepthFeed()\n",
    "\n",
    "while True:\n",
    "    pass"
   ]
  },
  {
   "cell_type": "code",
   "execution_count": null,
   "id": "07e3294f",
   "metadata": {},
   "outputs": [],
   "source": [
    "# -29 for nifty 50 , -101 for sensex\n",
    "def callBack(response):\n",
    "    response = json.loads(response)\n",
    "    # global counter\n",
    "    # counter += 1\n",
    "    print(response['response']['data']['sym'])\n",
    "    print(response['response']['data']['ltp'])\n",
    "quotes_streamer = api_connect.initReducedQuotesStreaming()\n",
    "quotes_streamer.subscribeReducedQuotesFeed(['-29','-101'],  callBack)\n",
    "while True:\n",
    "    pass    "
   ]
  },
  {
   "cell_type": "code",
   "execution_count": null,
   "id": "537622ff",
   "metadata": {},
   "outputs": [],
   "source": [
    "# depth_streamer.unsubscribeDepthFeed()\n",
    "quotes_streamer.unsubscribeReducedQuotesFeed()"
   ]
  },
  {
   "cell_type": "code",
   "execution_count": null,
   "id": "3d1cf089",
   "metadata": {},
   "outputs": [],
   "source": [
    "def callBack(response):\n",
    "    print(response)\n",
    "import time\n",
    "orders_streamer = api_connect.initOrdersStreaming(\"70204607\", \"70204607\")\n",
    "orders_streamer.subscribeOrdersFeed(callBack)\n",
    "\n",
    "while True:\n",
    "    time.sleep(1)"
   ]
  }
 ],
 "metadata": {
  "kernelspec": {
   "display_name": "venv",
   "language": "python",
   "name": "python3"
  },
  "language_info": {
   "codemirror_mode": {
    "name": "ipython",
    "version": 3
   },
   "file_extension": ".py",
   "mimetype": "text/x-python",
   "name": "python",
   "nbconvert_exporter": "python",
   "pygments_lexer": "ipython3",
   "version": "3.11.9"
  }
 },
 "nbformat": 4,
 "nbformat_minor": 5
}
