{
 "cells": [
  {
   "cell_type": "code",
   "execution_count": null,
   "id": "45a910d5",
   "metadata": {},
   "outputs": [],
   "source": [
    "import pandas as pd \n",
    "df = pd.read_csv('instruments.csv')"
   ]
  },
  {
   "cell_type": "code",
   "execution_count": null,
   "id": "94899488",
   "metadata": {},
   "outputs": [],
   "source": [
    "NIFTY_50 = 25000\n",
    "level = 20\n",
    "strikes = []\n",
    "for i in range(0,level+1):\n",
    "     strikes.append(NIFTY_50 + (i * 50))\n",
    "     strikes.append(NIFTY_50 - (i * 50))\n",
    "print(len(strikes))"
   ]
  },
  {
   "cell_type": "code",
   "execution_count": null,
   "id": "56aa579c",
   "metadata": {},
   "outputs": [],
   "source": [
    "pd.to_datetime(df['expiry'], format='%d-%b-%Y', errors='coerce')\n",
    "print(df['expiry'])"
   ]
  },
  {
   "cell_type": "code",
   "execution_count": null,
   "id": "b4d035e2",
   "metadata": {},
   "outputs": [],
   "source": [
    "Nifty_df = df[ (df['symbolname'] == 'NIFTY') & \n",
    "              (df['strikeprice'].isin(strikes))].sort_values(by='expiry')\n",
    "# Nifty_df = Nifty_df.set_index('expiry', inplace=True)\n",
    "print(Nifty_df.head())\n",
    "expiries = Nifty_df['expiry'].unique()\n",
    "\n",
    "Nifty_df = Nifty_df[Nifty_df['expiry'] == expiries[0]]\n",
    "print(expiries)"
   ]
  },
  {
   "cell_type": "code",
   "execution_count": null,
   "id": "cff1a074",
   "metadata": {},
   "outputs": [],
   "source": [
    "print(len(Nifty_df))\n",
    "Nifty_df.to_csv('nifty_strikes_without_groupby.csv', index=False)"
   ]
  },
  {
   "cell_type": "code",
   "execution_count": null,
   "id": "2b31eeb6",
   "metadata": {},
   "outputs": [],
   "source": [
    "Nifty_df.to_csv('nifty_strikes_with_groupby.csv', index=False)"
   ]
  },
  {
   "cell_type": "code",
   "execution_count": 1,
   "id": "cd0f451f",
   "metadata": {},
   "outputs": [],
   "source": [
    "import redis\n",
    "r = redis.Redis(host='localhost', port=6379, db=0)"
   ]
  },
  {
   "cell_type": "code",
   "execution_count": null,
   "id": "b2b8991a",
   "metadata": {},
   "outputs": [],
   "source": [
    "import json\n",
    "ltp = json.loads(r.get(f\"reduced_quotes:NIFTY\").decode())\n",
    "print(json.dumps(ltp,indent=4))"
   ]
  },
  {
   "cell_type": "code",
   "execution_count": 3,
   "id": "34b868bb",
   "metadata": {},
   "outputs": [],
   "source": [
    "import orjson\n",
    "\n",
    "data = orjson.loads(r.get(f\"reduced_quotes:NIFTY\").decode())"
   ]
  },
  {
   "cell_type": "code",
   "execution_count": 4,
   "id": "00b6bf67",
   "metadata": {},
   "outputs": [
    {
     "name": "stdout",
     "output_type": "stream",
     "text": [
      "{'response': {'data': {'aPr': '0.00', 'aSz': '0', 'altt': '08 Aug 2025, 03:31:01 PM', 'avgPrc': '0.00', 'bPr': '0.00', 'bSz': '0', 'c': '24596.15', 'chg': '-232.85', 'chgp': '-0.95', 'futPrc': '0.00', 'h': '24585.50', 'hCL': '0.00', 'l': '24337.50', 'lCL': '0.00', 'ltp': '24363.30', 'ltq': '0', 'ltt': '08 Aug 2025, 03:31:01 PM', 'lut': '08 Aug 2025, 03:31:01 PM', 'mO': '0', 'ntTrdVal': '0.00', 'o': '24544.25', 'oI': '0', 'oiChg': '0.00', 'oiChgp': '--', 'spotPrc': '0.00', 'sym': '-29', 'tBQ': '0', 'tSQ': '0', 'vol': '0', 'yHgh': '26277.35', 'yLw': '21743.65'}, 'streaming_type': 'quote'}} \n",
      " <class 'dict'>\n"
     ]
    }
   ],
   "source": [
    "print(data,'\\n', type(data))"
   ]
  },
  {
   "cell_type": "code",
   "execution_count": null,
   "id": "cf83b275",
   "metadata": {},
   "outputs": [],
   "source": [
    "from basic_functions import common_functions\n",
    "\n"
   ]
  },
  {
   "cell_type": "code",
   "execution_count": null,
   "id": "2c345f75",
   "metadata": {},
   "outputs": [],
   "source": [
    "obj = common_functions()\n",
    "data = obj.refresh_strikes_and_options()"
   ]
  },
  {
   "cell_type": "code",
   "execution_count": null,
   "id": "1c877e30",
   "metadata": {},
   "outputs": [],
   "source": [
    "tokens_list = list(data.keys())"
   ]
  },
  {
   "cell_type": "code",
   "execution_count": null,
   "id": "692dec2e",
   "metadata": {},
   "outputs": [],
   "source": [
    "print(len(tokens_list))"
   ]
  },
  {
   "cell_type": "code",
   "execution_count": null,
   "id": "6d2d276b",
   "metadata": {},
   "outputs": [],
   "source": [
    "strikes_updates_channel = r.pubsub()\n",
    "strikes_updates_channel.subscribe('strikes_updates')"
   ]
  },
  {
   "cell_type": "code",
   "execution_count": null,
   "id": "5d6b153e",
   "metadata": {},
   "outputs": [],
   "source": [
    "import json\n",
    "for message in strikes_updates_channel.listen():\n",
    "    if message['type'] == 'message':\n",
    "        data = json.loads(message['data'])\n",
    "        print(f\"Received strikes update:{len(data)} {data}\")\n",
    "        # symbol = data.get('symbol')\n",
    "        # if symbol:\n",
    "        #     print(f\"Received strikes update for {symbol}: {data}\")\n",
    "           "
   ]
  }
 ],
 "metadata": {
  "kernelspec": {
   "display_name": "venv",
   "language": "python",
   "name": "python3"
  },
  "language_info": {
   "codemirror_mode": {
    "name": "ipython",
    "version": 3
   },
   "file_extension": ".py",
   "mimetype": "text/x-python",
   "name": "python",
   "nbconvert_exporter": "python",
   "pygments_lexer": "ipython3",
   "version": "3.11.9"
  }
 },
 "nbformat": 4,
 "nbformat_minor": 5
}
