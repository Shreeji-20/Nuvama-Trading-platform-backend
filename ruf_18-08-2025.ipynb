{
 "cells": [
  {
   "cell_type": "code",
   "execution_count": null,
   "id": "da6b3fe3",
   "metadata": {},
   "outputs": [],
   "source": [
    "from nuvama import stratergies\n",
    "obj = stratergies.Stratergy1(19)"
   ]
  },
  {
   "cell_type": "code",
   "execution_count": null,
   "id": "64a8eb08",
   "metadata": {},
   "outputs": [],
   "source": [
    "import json\n",
    "print(json.dumps(obj.order_templates, indent=2))\n",
    "# print(json.dumps(obj.order_details_base_leg, indent=2))"
   ]
  },
  {
   "cell_type": "code",
   "execution_count": null,
   "id": "2dc71c50",
   "metadata": {},
   "outputs": [],
   "source": [
    "obj.main_logic()"
   ]
  },
  {
   "cell_type": "code",
   "execution_count": null,
   "id": "519474f6",
   "metadata": {},
   "outputs": [],
   "source": [
    "import subprocess\n",
    "\n",
    "subprocess.run([\"start\", \"cmd\", \"/k\", \"python3 C:\\\\Users\\\\shree\\\\OneDrive\\\\Desktop\\\\TrueData\\\\nuvama\\\\websocket\\\\central_socket_data.py\"], shell=True)\n"
   ]
  },
  {
   "cell_type": "code",
   "execution_count": null,
   "id": "e65ff7e6",
   "metadata": {},
   "outputs": [],
   "source": [
    "from nuvama import stratergies_4leg\n",
    "\n",
    "obj_4leg = stratergies_4leg.Stratergy4Leg(\"ef36910e-9520-42de-af2d-0f57c1a75b42\")"
   ]
  },
  {
   "cell_type": "code",
   "execution_count": null,
   "id": "45dfbc59",
   "metadata": {},
   "outputs": [],
   "source": [
    "import json\n",
    "# print(json.dumps(obj_4leg.order_details_base_leg, indent=2))\n",
    "# print(json.dumps(obj_4leg.order_templates, indent=2))\n",
    "# print(json.dumps(obj_4leg.exit_order_templates, indent=2))\n",
    "print(json.dumps(obj_4leg.global_action, indent=2))"
   ]
  },
  {
   "cell_type": "code",
   "execution_count": null,
   "id": "300f6c84",
   "metadata": {},
   "outputs": [],
   "source": [
    "obj_4leg.main_logic()"
   ]
  },
  {
   "cell_type": "code",
   "execution_count": null,
   "id": "78abf782",
   "metadata": {},
   "outputs": [],
   "source": [
    "import redis\n",
    "\n",
    "r = redis.Redis(host='localhost', port=6379, db=0)"
   ]
  },
  {
   "cell_type": "code",
   "execution_count": null,
   "id": "5e1b2833",
   "metadata": {},
   "outputs": [],
   "source": [
    "x = r.get(\"4_leg:9265b78e-fbf5-4284-ae8f-ade238dc898d\")"
   ]
  },
  {
   "cell_type": "code",
   "execution_count": null,
   "id": "c9e98792",
   "metadata": {},
   "outputs": [],
   "source": [
    "# print(x)\n",
    "y = -1.5"
   ]
  },
  {
   "cell_type": "code",
   "execution_count": 22,
   "id": "1d7bf42a",
   "metadata": {},
   "outputs": [],
   "source": [
    "# print(abs(y))\n",
    "import time\n",
    "from APIConnect.APIConnect import APIConnect "
   ]
  },
  {
   "cell_type": "code",
   "execution_count": 26,
   "id": "a51c441b",
   "metadata": {},
   "outputs": [
    {
     "name": "stdout",
     "output_type": "stream",
     "text": [
      "1.3387579917907715\n"
     ]
    }
   ],
   "source": [
    "\n",
    "t1 = time.time()\n",
    "users_dict = {\"api_connect\": APIConnect(\"iBe07GpBTEbbhg\", \"\", \"\", False, \"\", False)}\n",
    "obj = APIConnect(\"iBe07GpBTEbbhg\", \"\", \"\", False, \"\", False)\n",
    "t2 = time.time()\n",
    "print(t2-t1)"
   ]
  },
  {
   "cell_type": "code",
   "execution_count": 27,
   "id": "73fde63d",
   "metadata": {},
   "outputs": [
    {
     "name": "stdout",
     "output_type": "stream",
     "text": [
      "0.8577938079833984\n"
     ]
    }
   ],
   "source": [
    "from constants.exchange import ExchangeEnum\n",
    "from constants.order_type import OrderTypeEnum\n",
    "from constants.product_code import ProductCodeENum\n",
    "from constants.duration import DurationEnum\n",
    "from constants.action import ActionEnum\n",
    "from concurrent.futures import ThreadPoolExecutor\n",
    "t3 = time.time()\n",
    "with ThreadPoolExecutor(max_workers=3) as executor:\n",
    "    for i in range(10):\n",
    "        executor.submit(obj.PlaceTrade, Trading_Symbol=\"INE090A01021\", Exchange=ExchangeEnum.NSE, Action=ActionEnum.BUY, Duration=DurationEnum.DAY, Order_Type=OrderTypeEnum.MARKET, Quantity=1, Streaming_Symbol=\"4963_NSE\", Limit_Price=\"400\", Disclosed_Quantity=\"0\", TriggerPrice=\"0\", ProductCode=ProductCodeENum.CNC)\n",
    "t4 = time.time()\n",
    "print(t4-t3)\n"
   ]
  }
 ],
 "metadata": {
  "kernelspec": {
   "display_name": "venv",
   "language": "python",
   "name": "python3"
  },
  "language_info": {
   "codemirror_mode": {
    "name": "ipython",
    "version": 3
   },
   "file_extension": ".py",
   "mimetype": "text/x-python",
   "name": "python",
   "nbconvert_exporter": "python",
   "pygments_lexer": "ipython3",
   "version": "3.11.9"
  }
 },
 "nbformat": 4,
 "nbformat_minor": 5
}
