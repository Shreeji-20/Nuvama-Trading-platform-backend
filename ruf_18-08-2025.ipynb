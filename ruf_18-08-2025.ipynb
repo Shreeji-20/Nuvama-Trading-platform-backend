{
 "cells": [
  {
   "cell_type": "code",
   "execution_count": 3,
   "id": "da6b3fe3",
   "metadata": {},
   "outputs": [
    {
     "name": "stdout",
     "output_type": "stream",
     "text": [
      "Initializing Orders class\n"
     ]
    },
    {
     "name": "stdout",
     "output_type": "stream",
     "text": [
      "Live params updated: {'symbol': 'NIFTY', 'order_type': 'limit', 'quantity': 75, 'slices': 75, 'base_leg': 'CE', 'IOC_timeout': 1.0, 'call_strike': 25550, 'put_strike': 24300, 'desired_spread': 9.0, 'start_price': 10.0, 'user_ids': ['70204607'], 'expiry': 0, 'no_of_bid_ask_average': 5, 'action': 'buy', 'exit_start': 140.5, 'exit_desired_spread': 140.6, 'id': 19, 'note': 'test-3', 'run_state': 2}\n"
     ]
    }
   ],
   "source": [
    "from nuvama import stratergies\n",
    "obj = stratergies.Stratergy1(19)"
   ]
  },
  {
   "cell_type": "code",
   "execution_count": 4,
   "id": "64a8eb08",
   "metadata": {},
   "outputs": [
    {
     "name": "stdout",
     "output_type": "stream",
     "text": [
      "{\n",
      "  \"70204607\": {\n",
      "    \"user_id\": \"70204607\",\n",
      "    \"Trading_Symbol\": \"NIFTY2582124300PE\",\n",
      "    \"Exchange\": \"NFO\",\n",
      "    \"Action\": \"BUY\",\n",
      "    \"Order_Type\": \"LIMIT\",\n",
      "    \"Quantity\": 75,\n",
      "    \"Slice_Quantity\": 75,\n",
      "    \"Streaming_Symbol\": \"47149_NFO\",\n",
      "    \"Limit_Price\": \"0\",\n",
      "    \"Disclosed_Quantity\": 0,\n",
      "    \"TriggerPrice\": 0,\n",
      "    \"ProductCode\": \"NRML\",\n",
      "    \"remark\": \"Lord_Shreeji\",\n",
      "    \"IOC\": 1.0\n",
      "  }\n",
      "}\n"
     ]
    }
   ],
   "source": [
    "import json\n",
    "print(json.dumps(obj.order_templates, indent=2))\n",
    "# print(json.dumps(obj.order_details_base_leg, indent=2))"
   ]
  },
  {
   "cell_type": "code",
   "execution_count": null,
   "id": "2dc71c50",
   "metadata": {},
   "outputs": [],
   "source": [
    "obj.main_logic()"
   ]
  },
  {
   "cell_type": "code",
   "execution_count": 3,
   "id": "519474f6",
   "metadata": {},
   "outputs": [
    {
     "data": {
      "text/plain": [
       "CompletedProcess(args=['start', 'cmd', '/k', 'python3 C:\\\\Users\\\\shree\\\\OneDrive\\\\Desktop\\\\TrueData\\\\nuvama\\\\websocket\\\\central_socket_data.py'], returncode=0)"
      ]
     },
     "execution_count": 3,
     "metadata": {},
     "output_type": "execute_result"
    }
   ],
   "source": [
    "import subprocess\n",
    "\n",
    "subprocess.run([\"start\", \"cmd\", \"/k\", \"python3 C:\\\\Users\\\\shree\\\\OneDrive\\\\Desktop\\\\TrueData\\\\nuvama\\\\websocket\\\\central_socket_data.py\"], shell=True)\n"
   ]
  }
 ],
 "metadata": {
  "kernelspec": {
   "display_name": "venv",
   "language": "python",
   "name": "python3"
  },
  "language_info": {
   "codemirror_mode": {
    "name": "ipython",
    "version": 3
   },
   "file_extension": ".py",
   "mimetype": "text/x-python",
   "name": "python",
   "nbconvert_exporter": "python",
   "pygments_lexer": "ipython3",
   "version": "3.11.9"
  }
 },
 "nbformat": 4,
 "nbformat_minor": 5
}
